{
 "cells": [
  {
   "cell_type": "code",
   "execution_count": 64,
   "metadata": {},
   "outputs": [],
   "source": [
    "import requests\n",
    "from requests.exceptions import RequestException\n",
    "from urllib.parse import urlencode #用于在网址链接中加入参数\n",
    "import json\n",
    "from bs4 import BeautifulSoup"
   ]
  },
  {
   "cell_type": "code",
   "execution_count": 65,
   "metadata": {},
   "outputs": [],
   "source": [
    "def get_page_index(offset, keyword):\n",
    "    '''\n",
    "    Desc:\n",
    "        抓取通过offset实现Ajax异步加载的URL，返回当前offset的内容\n",
    "    param:\n",
    "        offset -- 为了实现Ajax异步加载，使用offset实现动态分页\n",
    "        keyword -- 搜索用的关键词\n",
    "    return:\n",
    "        res.text -- 当前offset的requests.text内容\n",
    "    '''\n",
    "    url_param ={\n",
    "        'offset': offset,\n",
    "        'format': 'json',\n",
    "        'keyword': keyword,\n",
    "        'autoload': 'true',\n",
    "        'count': '20',\n",
    "        'cur_tab': 1,\n",
    "        'from': 'search_tab'\n",
    "    }\n",
    "    url = 'https://www.toutiao.com/search_content/?' + urlencode(url_param)\n",
    "    try:\n",
    "        res = requests.get(url)\n",
    "        res.encoding = 'utf-8'\n",
    "        #返回的状态码是整型\n",
    "        if res.status_code == 200:\n",
    "            return res.text\n",
    "        return None\n",
    "    except RequestException:\n",
    "        print(\"请求索引页面出错\")\n",
    "        return None"
   ]
  },
  {
   "cell_type": "code",
   "execution_count": null,
   "metadata": {},
   "outputs": [],
   "source": []
  },
  {
   "cell_type": "code",
   "execution_count": 66,
   "metadata": {},
   "outputs": [],
   "source": [
    "def parse_page_index(html):\n",
    "    '''\n",
    "    Desc:\n",
    "        解析当前offset的requests.text内容\n",
    "    param:\n",
    "        html -- 当前offset的res.text内容\n",
    "    return:\n",
    "        item.get('article_url') -- 组图中的文章链接\n",
    "    '''\n",
    "    data = json.loads(html) #将网页的js数据格式转换为json\n",
    "    if data and 'data' in data.keys():\n",
    "        for item in data.get('data'):\n",
    "            if item.get('article_url') != None:\n",
    "                yield item.get('article_url')"
   ]
  },
  {
   "cell_type": "code",
   "execution_count": 83,
   "metadata": {},
   "outputs": [],
   "source": [
    "def get_page_detail(url):\n",
    "    '''\n",
    "    Desc:\n",
    "        获取每一个组图详情页连接的内容\n",
    "    param:\n",
    "        url -- 组图详情页的链接\n",
    "    return:\n",
    "        res.text -- 每一个组图详情页链接的res.text内容\n",
    "    '''\n",
    "    try:\n",
    "        headers = {\n",
    "            'user-agent':'Mozilla/5.0'\n",
    "        }\n",
    "        res = requests.get(url, headers=headers)\n",
    "        res.encoding = 'utf-8'\n",
    "        #返回的状态码是整型\n",
    "        if res.status_code == 200:\n",
    "            return res.text\n",
    "        return None\n",
    "    except RequestException:\n",
    "        print(\"请求详情页面出错\")\n",
    "        return None"
   ]
  },
  {
   "cell_type": "code",
   "execution_count": 84,
   "metadata": {},
   "outputs": [],
   "source": [
    "def paser_page_detail(html, url):\n",
    "    soup = BeautifulSoup(html, 'lxml')\n",
    "    title = soup.select('title')[0].text"
   ]
  },
  {
   "cell_type": "code",
   "execution_count": 88,
   "metadata": {},
   "outputs": [
    {
     "name": "stdout",
     "output_type": "stream",
     "text": [
      "路人街拍，夏天就要穿黑色，让你又美又干练！\n",
      "路人街拍，连衣裙加高跟鞋，这样穿不要太迷人！\n",
      "路人街拍，时尚的女孩都爱这么搭，满满的气质美\n",
      "路人街拍，一双凉拖鞋横扫这个夏季，凉拖鞋这样搭配清凉又迷人\n",
      "成都街拍，时尚的穿搭与迷人的气质相呼应，让你成为耀眼的明星！\n",
      "路人街拍，这才是牛仔短裤的正确穿法！\n",
      "路人街拍，半身裙这么穿最时尚！\n",
      "街拍！多款彰显身材的装扮！哪一个可以入的了你的眼！\n",
      "街拍北京，真实的三里屯街拍，有你喜欢的吗？\n",
      "街拍，上短下长的穿衣搭配让你魅力无限\n",
      "成都街拍，色彩缤纷的夏季搭配，为你增添时尚的魅力！\n",
      "路人街拍，一条牛仔短裤，解决今夏所有搭配！\n",
      "街拍路人，俏丽多姿的时尚穿搭参考，让你清丽绝俗又时尚\n"
     ]
    }
   ],
   "source": [
    "html = get_page_index(0, '街拍')\n",
    "for url in parse_page_index(html):\n",
    "    html = get_page_detail(url)\n",
    "    soup = BeautifulSoup(html, 'lxml')\n",
    "    #详情页的标题\n",
    "    title = soup.select('title')[0].text\n",
    "    print(title)"
   ]
  },
  {
   "cell_type": "code",
   "execution_count": 85,
   "metadata": {},
   "outputs": [],
   "source": [
    "html = get_page_detail('http://toutiao.com/group/6578799143752303112/')\n",
    "soup = BeautifulSoup(html, 'lxml')\n",
    "title = soup.select('title')[0].text"
   ]
  },
  {
   "cell_type": "code",
   "execution_count": 86,
   "metadata": {},
   "outputs": [
    {
     "data": {
      "text/plain": [
       "'路人街拍，夏天就要穿黑色，让你又美又干练！'"
      ]
     },
     "execution_count": 86,
     "metadata": {},
     "output_type": "execute_result"
    }
   ],
   "source": [
    "title"
   ]
  },
  {
   "cell_type": "code",
   "execution_count": null,
   "metadata": {},
   "outputs": [],
   "source": []
  }
 ],
 "metadata": {
  "kernelspec": {
   "display_name": "Python 3",
   "language": "python",
   "name": "python3"
  },
  "language_info": {
   "codemirror_mode": {
    "name": "ipython",
    "version": 3
   },
   "file_extension": ".py",
   "mimetype": "text/x-python",
   "name": "python",
   "nbconvert_exporter": "python",
   "pygments_lexer": "ipython3",
   "version": "3.6.5"
  }
 },
 "nbformat": 4,
 "nbformat_minor": 2
}
