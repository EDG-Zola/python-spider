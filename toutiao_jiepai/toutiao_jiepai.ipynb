{
 "cells": [
  {
   "cell_type": "code",
   "execution_count": 4,
   "metadata": {},
   "outputs": [],
   "source": [
    "import requests\n",
    "from requests.exceptions import RequestException\n",
    "from urllib.parse import urlencode #用于在网址链接中加入参数\n",
    "import json\n",
    "from bs4 import BeautifulSoup\n",
    "import re"
   ]
  },
  {
   "cell_type": "code",
   "execution_count": 5,
   "metadata": {},
   "outputs": [],
   "source": [
    "def get_page_index(offset, keyword):\n",
    "    '''\n",
    "    Desc:\n",
    "        抓取通过offset实现Ajax异步加载的URL，返回当前offset的内容\n",
    "    param:\n",
    "        offset -- 为了实现Ajax异步加载，使用offset实现动态分页\n",
    "        keyword -- 搜索用的关键词\n",
    "    return:\n",
    "        res.text -- 当前offset的requests.text内容\n",
    "    '''\n",
    "    url_param ={\n",
    "        'offset': offset,\n",
    "        'format': 'json',\n",
    "        'keyword': keyword,\n",
    "        'autoload': 'true',\n",
    "        'count': '20',\n",
    "        'cur_tab': 1,\n",
    "        'from': 'search_tab'\n",
    "    }\n",
    "    url = 'https://www.toutiao.com/search_content/?' + urlencode(url_param)\n",
    "    try:\n",
    "        res = requests.get(url)\n",
    "        res.encoding = 'utf-8'\n",
    "        #返回的状态码是整型\n",
    "        if res.status_code == 200:\n",
    "            return res.text\n",
    "        return None\n",
    "    except RequestException:\n",
    "        print(\"请求索引页面出错\")\n",
    "        return None"
   ]
  },
  {
   "cell_type": "code",
   "execution_count": null,
   "metadata": {},
   "outputs": [],
   "source": []
  },
  {
   "cell_type": "code",
   "execution_count": 6,
   "metadata": {},
   "outputs": [],
   "source": [
    "def parse_page_index(html):\n",
    "    '''\n",
    "    Desc:\n",
    "        解析当前offset的requests.text内容\n",
    "    param:\n",
    "        html -- 当前offset的res.text内容\n",
    "    return:\n",
    "        item.get('article_url') -- 组图中的文章链接\n",
    "    '''\n",
    "    data = json.loads(html) #将网页的js数据格式转换为json\n",
    "    if data and 'data' in data.keys():\n",
    "        for item in data.get('data'):\n",
    "            if item.get('article_url') != None:\n",
    "                yield item.get('article_url')"
   ]
  },
  {
   "cell_type": "code",
   "execution_count": 7,
   "metadata": {},
   "outputs": [],
   "source": [
    "def get_page_detail(url):\n",
    "    '''\n",
    "    Desc:\n",
    "        获取每一个组图详情页连接的内容\n",
    "    param:\n",
    "        url -- 组图详情页的链接\n",
    "    return:\n",
    "        res.text -- 每一个组图详情页链接的res.text内容\n",
    "    '''\n",
    "    try:\n",
    "        headers = {\n",
    "            'user-agent':'Mozilla/5.0'\n",
    "        }\n",
    "        res = requests.get(url, headers=headers)\n",
    "        res.encoding = 'utf-8'\n",
    "        #返回的状态码是整型\n",
    "        if res.status_code == 200:\n",
    "            return res.text\n",
    "        return None\n",
    "    except RequestException:\n",
    "        print(\"请求详情页面出错\")\n",
    "        return None"
   ]
  },
  {
   "cell_type": "code",
   "execution_count": 21,
   "metadata": {},
   "outputs": [],
   "source": [
    "def parse_page_detail(html, url):\n",
    "    html = get_page_detail('https://www.toutiao.com/a6578799143752303112/')\n",
    "    soup = BeautifulSoup(html, 'lxml')\n",
    "    title = soup.select('title')[0].text\n",
    "    img_pattern = re.compile('gallery: JSON\\\\.parse\\\\(\"(.*?)\"\\\\),', re.S)\n",
    "    result = re.search(img_pattern, html)\n",
    "    if result != None:\n",
    "        data = (result.group(1))\n",
    "        #由于json要求键值都必须时双引号的字符串，而且这里做了反爬虫处理，因此，我们要删除多余的转义字符\\\\\n",
    "        data = data.replace(\"\\\\\",\"\") \n",
    "        #将去除多余的转义字符的字符串转换为json格式的字典存储\n",
    "        data = json.loads(data)\n",
    "        if data and 'sub_images' in data.keys():\n",
    "            sub_images = data.get('sub_images')\n",
    "            images = [item.get('url') for item in sub_images]\n",
    "            return {\n",
    "                'title': title, #街拍详情页的标题\n",
    "                'images':images, #街拍详情页的组图图片\n",
    "                'url':url #街拍详情页的网页链接\n",
    "            }"
   ]
  },
  {
   "cell_type": "code",
   "execution_count": 22,
   "metadata": {},
   "outputs": [
    {
     "name": "stdout",
     "output_type": "stream",
     "text": [
      "{'title': '路人街拍，夏天就要穿黑色，让你又美又干练！', 'images': ['http://p3.pstatp.com/origin/pgc-image/15317459528784e9ce3883e', 'http://p9.pstatp.com/origin/pgc-image/15317459529033cc9d86194', 'http://p9.pstatp.com/origin/pgc-image/153174595225483b078b96b', 'http://p9.pstatp.com/origin/pgc-image/1531745953031dbe187e064', 'http://p3.pstatp.com/origin/pgc-image/1531745953035b987f1502b'], 'url': 'http://toutiao.com/group/6578797336615453197/'}\n",
      "请求详情页面出错\n",
      "{'title': '路人街拍，夏天就要穿黑色，让你又美又干练！', 'images': ['http://p3.pstatp.com/origin/pgc-image/15317459528784e9ce3883e', 'http://p9.pstatp.com/origin/pgc-image/15317459529033cc9d86194', 'http://p9.pstatp.com/origin/pgc-image/153174595225483b078b96b', 'http://p9.pstatp.com/origin/pgc-image/1531745953031dbe187e064', 'http://p3.pstatp.com/origin/pgc-image/1531745953035b987f1502b'], 'url': 'http://toutiao.com/group/6578806473885745678/'}\n",
      "{'title': '路人街拍，夏天就要穿黑色，让你又美又干练！', 'images': ['http://p3.pstatp.com/origin/pgc-image/15317459528784e9ce3883e', 'http://p9.pstatp.com/origin/pgc-image/15317459529033cc9d86194', 'http://p9.pstatp.com/origin/pgc-image/153174595225483b078b96b', 'http://p9.pstatp.com/origin/pgc-image/1531745953031dbe187e064', 'http://p3.pstatp.com/origin/pgc-image/1531745953035b987f1502b'], 'url': 'http://toutiao.com/group/6575128377458426371/'}\n",
      "{'title': '路人街拍，夏天就要穿黑色，让你又美又干练！', 'images': ['http://p3.pstatp.com/origin/pgc-image/15317459528784e9ce3883e', 'http://p9.pstatp.com/origin/pgc-image/15317459529033cc9d86194', 'http://p9.pstatp.com/origin/pgc-image/153174595225483b078b96b', 'http://p9.pstatp.com/origin/pgc-image/1531745953031dbe187e064', 'http://p3.pstatp.com/origin/pgc-image/1531745953035b987f1502b'], 'url': 'http://toutiao.com/group/6578788427389469188/'}\n",
      "{'title': '路人街拍，夏天就要穿黑色，让你又美又干练！', 'images': ['http://p3.pstatp.com/origin/pgc-image/15317459528784e9ce3883e', 'http://p9.pstatp.com/origin/pgc-image/15317459529033cc9d86194', 'http://p9.pstatp.com/origin/pgc-image/153174595225483b078b96b', 'http://p9.pstatp.com/origin/pgc-image/1531745953031dbe187e064', 'http://p3.pstatp.com/origin/pgc-image/1531745953035b987f1502b'], 'url': 'http://toutiao.com/group/6578795064661639687/'}\n",
      "{'title': '路人街拍，夏天就要穿黑色，让你又美又干练！', 'images': ['http://p3.pstatp.com/origin/pgc-image/15317459528784e9ce3883e', 'http://p9.pstatp.com/origin/pgc-image/15317459529033cc9d86194', 'http://p9.pstatp.com/origin/pgc-image/153174595225483b078b96b', 'http://p9.pstatp.com/origin/pgc-image/1531745953031dbe187e064', 'http://p3.pstatp.com/origin/pgc-image/1531745953035b987f1502b'], 'url': 'http://toutiao.com/group/6578782407963443719/'}\n",
      "{'title': '路人街拍，夏天就要穿黑色，让你又美又干练！', 'images': ['http://p3.pstatp.com/origin/pgc-image/15317459528784e9ce3883e', 'http://p9.pstatp.com/origin/pgc-image/15317459529033cc9d86194', 'http://p9.pstatp.com/origin/pgc-image/153174595225483b078b96b', 'http://p9.pstatp.com/origin/pgc-image/1531745953031dbe187e064', 'http://p3.pstatp.com/origin/pgc-image/1531745953035b987f1502b'], 'url': 'http://toutiao.com/group/6578772504720966151/'}\n",
      "{'title': '路人街拍，夏天就要穿黑色，让你又美又干练！', 'images': ['http://p3.pstatp.com/origin/pgc-image/15317459528784e9ce3883e', 'http://p9.pstatp.com/origin/pgc-image/15317459529033cc9d86194', 'http://p9.pstatp.com/origin/pgc-image/153174595225483b078b96b', 'http://p9.pstatp.com/origin/pgc-image/1531745953031dbe187e064', 'http://p3.pstatp.com/origin/pgc-image/1531745953035b987f1502b'], 'url': 'http://toutiao.com/group/6578808536753504782/'}\n",
      "{'title': '路人街拍，夏天就要穿黑色，让你又美又干练！', 'images': ['http://p3.pstatp.com/origin/pgc-image/15317459528784e9ce3883e', 'http://p9.pstatp.com/origin/pgc-image/15317459529033cc9d86194', 'http://p9.pstatp.com/origin/pgc-image/153174595225483b078b96b', 'http://p9.pstatp.com/origin/pgc-image/1531745953031dbe187e064', 'http://p3.pstatp.com/origin/pgc-image/1531745953035b987f1502b'], 'url': 'http://toutiao.com/group/6579007595988648456/'}\n",
      "{'title': '路人街拍，夏天就要穿黑色，让你又美又干练！', 'images': ['http://p3.pstatp.com/origin/pgc-image/15317459528784e9ce3883e', 'http://p9.pstatp.com/origin/pgc-image/15317459529033cc9d86194', 'http://p9.pstatp.com/origin/pgc-image/153174595225483b078b96b', 'http://p9.pstatp.com/origin/pgc-image/1531745953031dbe187e064', 'http://p3.pstatp.com/origin/pgc-image/1531745953035b987f1502b'], 'url': 'http://toutiao.com/group/6579007025441669636/'}\n",
      "{'title': '路人街拍，夏天就要穿黑色，让你又美又干练！', 'images': ['http://p3.pstatp.com/origin/pgc-image/15317459528784e9ce3883e', 'http://p9.pstatp.com/origin/pgc-image/15317459529033cc9d86194', 'http://p9.pstatp.com/origin/pgc-image/153174595225483b078b96b', 'http://p9.pstatp.com/origin/pgc-image/1531745953031dbe187e064', 'http://p3.pstatp.com/origin/pgc-image/1531745953035b987f1502b'], 'url': 'http://toutiao.com/group/6578771421936222723/'}\n",
      "{'title': '路人街拍，夏天就要穿黑色，让你又美又干练！', 'images': ['http://p3.pstatp.com/origin/pgc-image/15317459528784e9ce3883e', 'http://p9.pstatp.com/origin/pgc-image/15317459529033cc9d86194', 'http://p9.pstatp.com/origin/pgc-image/153174595225483b078b96b', 'http://p9.pstatp.com/origin/pgc-image/1531745953031dbe187e064', 'http://p3.pstatp.com/origin/pgc-image/1531745953035b987f1502b'], 'url': 'http://toutiao.com/group/6579003125749776909/'}\n"
     ]
    }
   ],
   "source": [
    "html = get_page_index(0, '街拍')\n",
    "for url in parse_page_index(html):\n",
    "    html = get_page_detail(url)\n",
    "    if html:\n",
    "        result = parse_page_detail(html, url)\n",
    "        print(result)\n",
    "    \n",
    "    "
   ]
  },
  {
   "cell_type": "code",
   "execution_count": 16,
   "metadata": {},
   "outputs": [],
   "source": [
    "html = get_page_detail('https://www.toutiao.com/a6578799143752303112/')\n",
    "soup = BeautifulSoup(html, 'lxml')\n",
    "title = soup.select('title')[0].text\n",
    "img_pattern = re.compile('gallery: JSON\\\\.parse\\\\(\"(.*?)\"\\\\),', re.S)\n",
    "result = re.search(img_pattern, html)\n",
    "\n",
    "data = (result.group(1))\n",
    "#由于json要求键值都必须时双引号的字符串，而且这里做了反爬虫处理，因此，我们要删除多余的转义字符\\\\\n",
    "data = data.replace(\"\\\\\",\"\") \n",
    "data = json.loads(data)\n",
    "if data and 'sub_images' in data.keys():\n",
    "    sub_images = data.get('sub_images')\n",
    "    images = [item.get('url') for item in sub_images]"
   ]
  },
  {
   "cell_type": "code",
   "execution_count": 17,
   "metadata": {},
   "outputs": [
    {
     "data": {
      "text/plain": [
       "['http://p3.pstatp.com/origin/pgc-image/15317459528784e9ce3883e',\n",
       " 'http://p9.pstatp.com/origin/pgc-image/15317459529033cc9d86194',\n",
       " 'http://p9.pstatp.com/origin/pgc-image/153174595225483b078b96b',\n",
       " 'http://p9.pstatp.com/origin/pgc-image/1531745953031dbe187e064',\n",
       " 'http://p3.pstatp.com/origin/pgc-image/1531745953035b987f1502b']"
      ]
     },
     "execution_count": 17,
     "metadata": {},
     "output_type": "execute_result"
    }
   ],
   "source": [
    "images"
   ]
  },
  {
   "cell_type": "code",
   "execution_count": null,
   "metadata": {},
   "outputs": [],
   "source": []
  }
 ],
 "metadata": {
  "kernelspec": {
   "display_name": "Python 3",
   "language": "python",
   "name": "python3"
  },
  "language_info": {
   "codemirror_mode": {
    "name": "ipython",
    "version": 3
   },
   "file_extension": ".py",
   "mimetype": "text/x-python",
   "name": "python",
   "nbconvert_exporter": "python",
   "pygments_lexer": "ipython3",
   "version": "3.6.5"
  }
 },
 "nbformat": 4,
 "nbformat_minor": 2
}
