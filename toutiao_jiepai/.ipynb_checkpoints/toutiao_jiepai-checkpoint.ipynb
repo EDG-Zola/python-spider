{
 "cells": [
  {
   "cell_type": "code",
   "execution_count": 1,
   "metadata": {},
   "outputs": [],
   "source": [
    "import requests\n",
    "from requests.exceptions import RequestException\n",
    "from urllib.parse import urlencode #用于在网址链接中加入参数\n",
    "import json\n",
    "from bs4 import BeautifulSoup\n",
    "import re\n",
    "import os\n",
    "from hashlib import md5"
   ]
  },
  {
   "cell_type": "code",
   "execution_count": 20,
   "metadata": {},
   "outputs": [],
   "source": [
    "def get_page_index(offset, keyword):\n",
    "    '''\n",
    "    Desc:\n",
    "        抓取通过offset实现Ajax异步加载的URL，返回当前offset的内容\n",
    "    param:\n",
    "        offset -- 为了实现Ajax异步加载，使用offset实现动态分页\n",
    "        keyword -- 搜索用的关键词\n",
    "    return:\n",
    "        res.text -- 当前offset的requests.text内容\n",
    "    '''\n",
    "    url_param ={\n",
    "        'offset': offset,\n",
    "        'format': 'json',\n",
    "        'keyword': keyword,\n",
    "        'autoload': 'true',\n",
    "        'count': '20',\n",
    "        'cur_tab': 1,\n",
    "        'from': 'search_tab'\n",
    "    }\n",
    "    url = 'https://www.toutiao.com/search_content/?' + urlencode(url_param)\n",
    "    try:\n",
    "        res = requests.get(url)\n",
    "        res.encoding = 'utf-8'\n",
    "        #返回的状态码是整型\n",
    "        if res.status_code == 200:\n",
    "            return res.text\n",
    "        return None\n",
    "    except RequestException:\n",
    "        print(\"请求索引页面出错\")\n",
    "        return None"
   ]
  },
  {
   "cell_type": "code",
   "execution_count": 21,
   "metadata": {},
   "outputs": [],
   "source": [
    "def parse_page_index(html):\n",
    "    '''\n",
    "    Desc:\n",
    "        解析当前offset的requests.text内容\n",
    "    param:\n",
    "        html -- 当前offset的res.text内容\n",
    "    return:\n",
    "        item.get('article_url') -- 组图中的文章链接\n",
    "    '''\n",
    "    data = json.loads(html) #将网页的js数据格式转换为json\n",
    "    if data and 'data' in data.keys():\n",
    "        for item in data.get('data'):\n",
    "            if item.get('article_url') != None:\n",
    "                yield item.get('article_url')"
   ]
  },
  {
   "cell_type": "code",
   "execution_count": 22,
   "metadata": {},
   "outputs": [],
   "source": [
    "def get_page_detail(url):\n",
    "    '''\n",
    "    Desc:\n",
    "        获取每一个组图详情页连接的内容\n",
    "    param:\n",
    "        url -- 组图详情页的链接\n",
    "    return:\n",
    "        res.text -- 每一个组图详情页链接的res.text内容\n",
    "    '''\n",
    "    try:\n",
    "        headers = {\n",
    "            'user-agent':'Mozilla/5.0'\n",
    "        }\n",
    "        res = requests.get(url, headers=headers)\n",
    "        res.encoding = 'utf-8'\n",
    "        #返回的状态码是整型\n",
    "        if res.status_code == 200:\n",
    "            return res.text\n",
    "        return None\n",
    "    except RequestException:\n",
    "        print(\"请求详情页面出错\")\n",
    "        return None"
   ]
  },
  {
   "cell_type": "code",
   "execution_count": 23,
   "metadata": {},
   "outputs": [],
   "source": [
    "def download_img(url):\n",
    "    '''\n",
    "    Desc:\n",
    "        下载图片到指定的文件file_name中\n",
    "    param:\n",
    "        url -- 每一张图片的url\n",
    "    '''\n",
    "    try:\n",
    "        headers = {\n",
    "            'user-agent':'Mozilla/5.0'\n",
    "        }\n",
    "        res = requests.get(url, headers=headers)\n",
    "#         res.encoding = 'utf-8'\n",
    "        #返回的状态码是整型\n",
    "        if res.status_code == 200:\n",
    "            #在当前路径下存储图片，图片命名为md5的格式+jpg\n",
    "            file_name = '{0}/{1}.{2}'.format(os.getcwd(), md5(res.content).hexdigest(), 'jpg')\n",
    "            print(\"正在下载\", url, \" \", file_name) #打印当前下载的图片的url\n",
    "            if not os.path.exists(file_name):\n",
    "                with open(file_name, 'wb') as f:\n",
    "                    f.write(res.content) #图片信息为二进制数据，所以为调用content方法\n",
    "                    f.close() \n",
    "        return None\n",
    "    except RequestException:\n",
    "        print(\"下载图片出错\")\n",
    "        return None"
   ]
  },
  {
   "cell_type": "code",
   "execution_count": 24,
   "metadata": {},
   "outputs": [],
   "source": [
    "def parse_page_detail(html, url):\n",
    "    '''\n",
    "    Desc:\n",
    "        解析组图详情页的内容，返回组图详情页的标题，详情页里面的图片，详情页的url\n",
    "    param:\n",
    "        html -- 组图详情页的html内容 \n",
    "        url -- 组图详情页的链接\n",
    "    return:\n",
    "        一个字典 -- \n",
    "        {\n",
    "            'title': title, #街拍详情页的标题\n",
    "            'images':images, #街拍详情页的组图图片\n",
    "            'url':url #街拍详情页的网页链接\n",
    "        }\n",
    "    '''\n",
    "    soup = BeautifulSoup(html, 'lxml')\n",
    "    title = soup.select('title')[0].text\n",
    "    #使用正则表达式提取json数据\n",
    "    img_pattern = re.compile('gallery: JSON\\\\.parse\\\\(\"(.*?)\"\\\\),', re.S)\n",
    "    result = re.search(img_pattern, html)\n",
    "    if result != None:\n",
    "        data = (result.group(1))\n",
    "        #由于json要求键值都必须时双引号的字符串，而且这里做了反爬虫处理，因此，我们要删除多余的转义字符\\\\\n",
    "        data = data.replace(\"\\\\\",\"\") \n",
    "        #将去除多余的转义字符的字符串转换为json格式的字典存储\n",
    "        data = json.loads(data)\n",
    "        if data and 'sub_images' in data.keys():\n",
    "            sub_images = data.get('sub_images')\n",
    "            images = [item.get('url') for item in sub_images]\n",
    "            for image in images:\n",
    "                download_img(image)\n",
    "            return {\n",
    "                'title': title, #街拍详情页的标题\n",
    "                'images':images, #街拍详情页的组图图片\n",
    "                'url':url #街拍详情页的网页链接\n",
    "            }"
   ]
  },
  {
   "cell_type": "code",
   "execution_count": 7,
   "metadata": {},
   "outputs": [],
   "source": [
    "html = get_page_detail('https://www.toutiao.com/a6578799143752303112/')\n",
    "soup = BeautifulSoup(html, 'lxml')\n",
    "title = soup.select('title')[0].text\n",
    "img_pattern = re.compile('gallery: JSON\\\\.parse\\\\(\"(.*?)\"\\\\),', re.S)\n",
    "result = re.search(img_pattern, html)\n",
    "\n",
    "data = (result.group(1))\n",
    "#由于json要求键值都必须时双引号的字符串，而且这里做了反爬虫处理，因此，我们要删除多余的转义字符\\\\\n",
    "data = data.replace(\"\\\\\",\"\") \n",
    "data = json.loads(data)\n",
    "if data and 'sub_images' in data.keys():\n",
    "    sub_images = data.get('sub_images')\n",
    "    images = [item.get('url') for item in sub_images]"
   ]
  },
  {
   "cell_type": "code",
   "execution_count": 8,
   "metadata": {},
   "outputs": [
    {
     "data": {
      "text/plain": [
       "['http://p3.pstatp.com/origin/pgc-image/15317459528784e9ce3883e',\n",
       " 'http://p9.pstatp.com/origin/pgc-image/15317459529033cc9d86194',\n",
       " 'http://p9.pstatp.com/origin/pgc-image/153174595225483b078b96b',\n",
       " 'http://p9.pstatp.com/origin/pgc-image/1531745953031dbe187e064',\n",
       " 'http://p3.pstatp.com/origin/pgc-image/1531745953035b987f1502b']"
      ]
     },
     "execution_count": 8,
     "metadata": {},
     "output_type": "execute_result"
    }
   ],
   "source": [
    "images"
   ]
  },
  {
   "cell_type": "code",
   "execution_count": 25,
   "metadata": {},
   "outputs": [
    {
     "name": "stdout",
     "output_type": "stream",
     "text": [
      "http://toutiao.com/group/6579007595988648456/\n",
      "正在下载 http://p3.pstatp.com/origin/pgc-image/1531794467973bbf54fa82d   E:\\GitWorkstation\\python-spider\\toutiao_jiepai/c2fa42fcead98af5659e251feb4d731e.jpg\n",
      "正在下载 http://p9.pstatp.com/origin/pgc-image/1531794476523de14f10abf   E:\\GitWorkstation\\python-spider\\toutiao_jiepai/be1c6be7aa207bc95a6f3826280a0b27.jpg\n",
      "正在下载 http://p3.pstatp.com/origin/pgc-image/1531794484584af262f3d67   E:\\GitWorkstation\\python-spider\\toutiao_jiepai/db1667e1c8022324d41e03c68e5172f7.jpg\n",
      "正在下载 http://p1.pstatp.com/origin/pgc-image/1531794491810a2b642d8c0   E:\\GitWorkstation\\python-spider\\toutiao_jiepai/20079342511f64e179acf7c9ded5b2d2.jpg\n",
      "正在下载 http://p3.pstatp.com/origin/pgc-image/153179450091015c515cf58   E:\\GitWorkstation\\python-spider\\toutiao_jiepai/5d3904f145cb6a66c3d6e5d1c8702e79.jpg\n",
      "http://toutiao.com/group/6578797336615453197/\n",
      "正在下载 http://p3.pstatp.com/origin/pgc-image/15317453888010e6e32030c   E:\\GitWorkstation\\python-spider\\toutiao_jiepai/c8e7f54ef8fdba5f5488977a743b136e.jpg\n",
      "正在下载 http://p1.pstatp.com/origin/pgc-image/15317453888903076d1559d   E:\\GitWorkstation\\python-spider\\toutiao_jiepai/7e99e2881e5bec903b4895ee3a665940.jpg\n",
      "正在下载 http://p3.pstatp.com/origin/pgc-image/1531745389238be2a58a95b   E:\\GitWorkstation\\python-spider\\toutiao_jiepai/af996c2537987241dc4c828a1555a01b.jpg\n",
      "正在下载 http://p1.pstatp.com/origin/pgc-image/1531745451785ac5e44e50d   E:\\GitWorkstation\\python-spider\\toutiao_jiepai/96b8b23ac8ffa40f44bf9f14ad3ed8fe.jpg\n",
      "正在下载 http://p3.pstatp.com/origin/pgc-image/15317456029410ca4920b51   E:\\GitWorkstation\\python-spider\\toutiao_jiepai/89a5a0bda7128b80ace95952b5b20120.jpg\n",
      "http://toutiao.com/group/6578799143752303112/\n",
      "正在下载 http://p3.pstatp.com/origin/pgc-image/15317459528784e9ce3883e   E:\\GitWorkstation\\python-spider\\toutiao_jiepai/9942fbdf79f6a33f3fe51e367b507799.jpg\n",
      "正在下载 http://p9.pstatp.com/origin/pgc-image/15317459529033cc9d86194   E:\\GitWorkstation\\python-spider\\toutiao_jiepai/df008908919cf77b6b59e99a43a5d3a9.jpg\n",
      "正在下载 http://p9.pstatp.com/origin/pgc-image/153174595225483b078b96b   E:\\GitWorkstation\\python-spider\\toutiao_jiepai/0371acaef73d9e07ee0edc57257795d1.jpg\n",
      "正在下载 http://p9.pstatp.com/origin/pgc-image/1531745953031dbe187e064   E:\\GitWorkstation\\python-spider\\toutiao_jiepai/ff9adbc6c7e8bed24466979fdb5ae295.jpg\n",
      "正在下载 http://p3.pstatp.com/origin/pgc-image/1531745953035b987f1502b   E:\\GitWorkstation\\python-spider\\toutiao_jiepai/1bfef97d718ebb17bc0cf07e8468b2cf.jpg\n",
      "http://toutiao.com/group/6579009248506675720/\n",
      "正在下载 http://p3.pstatp.com/origin/pgc-image/1531794761176470bc3ce28   E:\\GitWorkstation\\python-spider\\toutiao_jiepai/9b1073fe7efeca9b96a778f358a84d48.jpg\n",
      "正在下载 http://p3.pstatp.com/origin/pgc-image/153179476831366dd32e5d8   E:\\GitWorkstation\\python-spider\\toutiao_jiepai/16adc7fa62beffd672dbc49992d77842.jpg\n",
      "正在下载 http://p3.pstatp.com/origin/pgc-image/15317947770446fffdab632   E:\\GitWorkstation\\python-spider\\toutiao_jiepai/2be822395f68616f02d26468ac1134d5.jpg\n",
      "正在下载 http://p3.pstatp.com/origin/pgc-image/153179478525747b81f4123   E:\\GitWorkstation\\python-spider\\toutiao_jiepai/3be10edc501e3511264fb610761730bc.jpg\n",
      "正在下载 http://p1.pstatp.com/origin/pgc-image/153179479409249c7752e0f   E:\\GitWorkstation\\python-spider\\toutiao_jiepai/79184ebd7ccbb8826106af848131170c.jpg\n",
      "http://toutiao.com/group/6578788427389469188/\n",
      "正在下载 http://p1.pstatp.com/origin/pgc-image/153174339499877605493e9   E:\\GitWorkstation\\python-spider\\toutiao_jiepai/82fda6ec1477f4fef868b2733d449d2e.jpg\n",
      "正在下载 http://p3.pstatp.com/origin/pgc-image/153174338753592e27ec653   E:\\GitWorkstation\\python-spider\\toutiao_jiepai/4d71d36f8047c6d3f36348106240ff28.jpg\n",
      "正在下载 http://p3.pstatp.com/origin/pgc-image/1531743382086a8ecbf43f0   E:\\GitWorkstation\\python-spider\\toutiao_jiepai/2b2dc2809241ba5edeae6ab91b2e41dd.jpg\n",
      "正在下载 http://p3.pstatp.com/origin/pgc-image/153174340466949aa12393f   E:\\GitWorkstation\\python-spider\\toutiao_jiepai/0e20a6ad90f46153a52100a1451178ca.jpg\n",
      "正在下载 http://p9.pstatp.com/origin/pgc-image/153174341265500f0b6993c   E:\\GitWorkstation\\python-spider\\toutiao_jiepai/208ed863273a0d6a93644fb98fd3c51f.jpg\n",
      "http://toutiao.com/group/6578782407963443719/\n"
     ]
    },
    {
     "ename": "KeyboardInterrupt",
     "evalue": "",
     "output_type": "error",
     "traceback": [
      "\u001b[1;31m---------------------------------------------------------------------------\u001b[0m",
      "\u001b[1;31mKeyboardInterrupt\u001b[0m                         Traceback (most recent call last)",
      "\u001b[1;32m<ipython-input-25-7de0fc8fa83c>\u001b[0m in \u001b[0;36m<module>\u001b[1;34m()\u001b[0m\n\u001b[0;32m      2\u001b[0m \u001b[1;32mfor\u001b[0m \u001b[0murl\u001b[0m \u001b[1;32min\u001b[0m \u001b[0mparse_page_index\u001b[0m\u001b[1;33m(\u001b[0m\u001b[0mhtml\u001b[0m\u001b[1;33m)\u001b[0m\u001b[1;33m:\u001b[0m\u001b[1;33m\u001b[0m\u001b[0m\n\u001b[0;32m      3\u001b[0m     \u001b[0mprint\u001b[0m\u001b[1;33m(\u001b[0m\u001b[0murl\u001b[0m\u001b[1;33m)\u001b[0m\u001b[1;33m\u001b[0m\u001b[0m\n\u001b[1;32m----> 4\u001b[1;33m     \u001b[0mhtml\u001b[0m \u001b[1;33m=\u001b[0m \u001b[0mget_page_detail\u001b[0m\u001b[1;33m(\u001b[0m\u001b[0murl\u001b[0m\u001b[1;33m)\u001b[0m\u001b[1;33m\u001b[0m\u001b[0m\n\u001b[0m\u001b[0;32m      5\u001b[0m     \u001b[1;32mif\u001b[0m \u001b[0mhtml\u001b[0m\u001b[1;33m:\u001b[0m\u001b[1;33m\u001b[0m\u001b[0m\n\u001b[0;32m      6\u001b[0m         \u001b[0mresult\u001b[0m \u001b[1;33m=\u001b[0m \u001b[0mparse_page_detail\u001b[0m\u001b[1;33m(\u001b[0m\u001b[0mhtml\u001b[0m\u001b[1;33m,\u001b[0m \u001b[0murl\u001b[0m\u001b[1;33m)\u001b[0m\u001b[1;33m\u001b[0m\u001b[0m\n",
      "\u001b[1;32m<ipython-input-22-691d415bb378>\u001b[0m in \u001b[0;36mget_page_detail\u001b[1;34m(url)\u001b[0m\n\u001b[0;32m     12\u001b[0m             \u001b[1;34m'user-agent'\u001b[0m\u001b[1;33m:\u001b[0m\u001b[1;34m'Mozilla/5.0'\u001b[0m\u001b[1;33m\u001b[0m\u001b[0m\n\u001b[0;32m     13\u001b[0m         }\n\u001b[1;32m---> 14\u001b[1;33m         \u001b[0mres\u001b[0m \u001b[1;33m=\u001b[0m \u001b[0mrequests\u001b[0m\u001b[1;33m.\u001b[0m\u001b[0mget\u001b[0m\u001b[1;33m(\u001b[0m\u001b[0murl\u001b[0m\u001b[1;33m,\u001b[0m \u001b[0mheaders\u001b[0m\u001b[1;33m=\u001b[0m\u001b[0mheaders\u001b[0m\u001b[1;33m)\u001b[0m\u001b[1;33m\u001b[0m\u001b[0m\n\u001b[0m\u001b[0;32m     15\u001b[0m         \u001b[0mres\u001b[0m\u001b[1;33m.\u001b[0m\u001b[0mencoding\u001b[0m \u001b[1;33m=\u001b[0m \u001b[1;34m'utf-8'\u001b[0m\u001b[1;33m\u001b[0m\u001b[0m\n\u001b[0;32m     16\u001b[0m         \u001b[1;31m#返回的状态码是整型\u001b[0m\u001b[1;33m\u001b[0m\u001b[1;33m\u001b[0m\u001b[0m\n",
      "\u001b[1;32mD:\\AnacondaForPython3\\lib\\site-packages\\requests\\api.py\u001b[0m in \u001b[0;36mget\u001b[1;34m(url, params, **kwargs)\u001b[0m\n\u001b[0;32m     70\u001b[0m \u001b[1;33m\u001b[0m\u001b[0m\n\u001b[0;32m     71\u001b[0m     \u001b[0mkwargs\u001b[0m\u001b[1;33m.\u001b[0m\u001b[0msetdefault\u001b[0m\u001b[1;33m(\u001b[0m\u001b[1;34m'allow_redirects'\u001b[0m\u001b[1;33m,\u001b[0m \u001b[1;32mTrue\u001b[0m\u001b[1;33m)\u001b[0m\u001b[1;33m\u001b[0m\u001b[0m\n\u001b[1;32m---> 72\u001b[1;33m     \u001b[1;32mreturn\u001b[0m \u001b[0mrequest\u001b[0m\u001b[1;33m(\u001b[0m\u001b[1;34m'get'\u001b[0m\u001b[1;33m,\u001b[0m \u001b[0murl\u001b[0m\u001b[1;33m,\u001b[0m \u001b[0mparams\u001b[0m\u001b[1;33m=\u001b[0m\u001b[0mparams\u001b[0m\u001b[1;33m,\u001b[0m \u001b[1;33m**\u001b[0m\u001b[0mkwargs\u001b[0m\u001b[1;33m)\u001b[0m\u001b[1;33m\u001b[0m\u001b[0m\n\u001b[0m\u001b[0;32m     73\u001b[0m \u001b[1;33m\u001b[0m\u001b[0m\n\u001b[0;32m     74\u001b[0m \u001b[1;33m\u001b[0m\u001b[0m\n",
      "\u001b[1;32mD:\\AnacondaForPython3\\lib\\site-packages\\requests\\api.py\u001b[0m in \u001b[0;36mrequest\u001b[1;34m(method, url, **kwargs)\u001b[0m\n\u001b[0;32m     56\u001b[0m     \u001b[1;31m# cases, and look like a memory leak in others.\u001b[0m\u001b[1;33m\u001b[0m\u001b[1;33m\u001b[0m\u001b[0m\n\u001b[0;32m     57\u001b[0m     \u001b[1;32mwith\u001b[0m \u001b[0msessions\u001b[0m\u001b[1;33m.\u001b[0m\u001b[0mSession\u001b[0m\u001b[1;33m(\u001b[0m\u001b[1;33m)\u001b[0m \u001b[1;32mas\u001b[0m \u001b[0msession\u001b[0m\u001b[1;33m:\u001b[0m\u001b[1;33m\u001b[0m\u001b[0m\n\u001b[1;32m---> 58\u001b[1;33m         \u001b[1;32mreturn\u001b[0m \u001b[0msession\u001b[0m\u001b[1;33m.\u001b[0m\u001b[0mrequest\u001b[0m\u001b[1;33m(\u001b[0m\u001b[0mmethod\u001b[0m\u001b[1;33m=\u001b[0m\u001b[0mmethod\u001b[0m\u001b[1;33m,\u001b[0m \u001b[0murl\u001b[0m\u001b[1;33m=\u001b[0m\u001b[0murl\u001b[0m\u001b[1;33m,\u001b[0m \u001b[1;33m**\u001b[0m\u001b[0mkwargs\u001b[0m\u001b[1;33m)\u001b[0m\u001b[1;33m\u001b[0m\u001b[0m\n\u001b[0m\u001b[0;32m     59\u001b[0m \u001b[1;33m\u001b[0m\u001b[0m\n\u001b[0;32m     60\u001b[0m \u001b[1;33m\u001b[0m\u001b[0m\n",
      "\u001b[1;32mD:\\AnacondaForPython3\\lib\\site-packages\\requests\\sessions.py\u001b[0m in \u001b[0;36mrequest\u001b[1;34m(self, method, url, params, data, headers, cookies, files, auth, timeout, allow_redirects, proxies, hooks, stream, verify, cert, json)\u001b[0m\n\u001b[0;32m    506\u001b[0m         }\n\u001b[0;32m    507\u001b[0m         \u001b[0msend_kwargs\u001b[0m\u001b[1;33m.\u001b[0m\u001b[0mupdate\u001b[0m\u001b[1;33m(\u001b[0m\u001b[0msettings\u001b[0m\u001b[1;33m)\u001b[0m\u001b[1;33m\u001b[0m\u001b[0m\n\u001b[1;32m--> 508\u001b[1;33m         \u001b[0mresp\u001b[0m \u001b[1;33m=\u001b[0m \u001b[0mself\u001b[0m\u001b[1;33m.\u001b[0m\u001b[0msend\u001b[0m\u001b[1;33m(\u001b[0m\u001b[0mprep\u001b[0m\u001b[1;33m,\u001b[0m \u001b[1;33m**\u001b[0m\u001b[0msend_kwargs\u001b[0m\u001b[1;33m)\u001b[0m\u001b[1;33m\u001b[0m\u001b[0m\n\u001b[0m\u001b[0;32m    509\u001b[0m \u001b[1;33m\u001b[0m\u001b[0m\n\u001b[0;32m    510\u001b[0m         \u001b[1;32mreturn\u001b[0m \u001b[0mresp\u001b[0m\u001b[1;33m\u001b[0m\u001b[0m\n",
      "\u001b[1;32mD:\\AnacondaForPython3\\lib\\site-packages\\requests\\sessions.py\u001b[0m in \u001b[0;36msend\u001b[1;34m(self, request, **kwargs)\u001b[0m\n\u001b[0;32m    638\u001b[0m \u001b[1;33m\u001b[0m\u001b[0m\n\u001b[0;32m    639\u001b[0m         \u001b[1;31m# Resolve redirects if allowed.\u001b[0m\u001b[1;33m\u001b[0m\u001b[1;33m\u001b[0m\u001b[0m\n\u001b[1;32m--> 640\u001b[1;33m         \u001b[0mhistory\u001b[0m \u001b[1;33m=\u001b[0m \u001b[1;33m[\u001b[0m\u001b[0mresp\u001b[0m \u001b[1;32mfor\u001b[0m \u001b[0mresp\u001b[0m \u001b[1;32min\u001b[0m \u001b[0mgen\u001b[0m\u001b[1;33m]\u001b[0m \u001b[1;32mif\u001b[0m \u001b[0mallow_redirects\u001b[0m \u001b[1;32melse\u001b[0m \u001b[1;33m[\u001b[0m\u001b[1;33m]\u001b[0m\u001b[1;33m\u001b[0m\u001b[0m\n\u001b[0m\u001b[0;32m    641\u001b[0m \u001b[1;33m\u001b[0m\u001b[0m\n\u001b[0;32m    642\u001b[0m         \u001b[1;31m# Shuffle things around if there's history.\u001b[0m\u001b[1;33m\u001b[0m\u001b[1;33m\u001b[0m\u001b[0m\n",
      "\u001b[1;32mD:\\AnacondaForPython3\\lib\\site-packages\\requests\\sessions.py\u001b[0m in \u001b[0;36m<listcomp>\u001b[1;34m(.0)\u001b[0m\n\u001b[0;32m    638\u001b[0m \u001b[1;33m\u001b[0m\u001b[0m\n\u001b[0;32m    639\u001b[0m         \u001b[1;31m# Resolve redirects if allowed.\u001b[0m\u001b[1;33m\u001b[0m\u001b[1;33m\u001b[0m\u001b[0m\n\u001b[1;32m--> 640\u001b[1;33m         \u001b[0mhistory\u001b[0m \u001b[1;33m=\u001b[0m \u001b[1;33m[\u001b[0m\u001b[0mresp\u001b[0m \u001b[1;32mfor\u001b[0m \u001b[0mresp\u001b[0m \u001b[1;32min\u001b[0m \u001b[0mgen\u001b[0m\u001b[1;33m]\u001b[0m \u001b[1;32mif\u001b[0m \u001b[0mallow_redirects\u001b[0m \u001b[1;32melse\u001b[0m \u001b[1;33m[\u001b[0m\u001b[1;33m]\u001b[0m\u001b[1;33m\u001b[0m\u001b[0m\n\u001b[0m\u001b[0;32m    641\u001b[0m \u001b[1;33m\u001b[0m\u001b[0m\n\u001b[0;32m    642\u001b[0m         \u001b[1;31m# Shuffle things around if there's history.\u001b[0m\u001b[1;33m\u001b[0m\u001b[1;33m\u001b[0m\u001b[0m\n",
      "\u001b[1;32mD:\\AnacondaForPython3\\lib\\site-packages\\requests\\sessions.py\u001b[0m in \u001b[0;36mresolve_redirects\u001b[1;34m(self, resp, req, stream, timeout, verify, cert, proxies, yield_requests, **adapter_kwargs)\u001b[0m\n\u001b[0;32m    216\u001b[0m                     \u001b[0mproxies\u001b[0m\u001b[1;33m=\u001b[0m\u001b[0mproxies\u001b[0m\u001b[1;33m,\u001b[0m\u001b[1;33m\u001b[0m\u001b[0m\n\u001b[0;32m    217\u001b[0m                     \u001b[0mallow_redirects\u001b[0m\u001b[1;33m=\u001b[0m\u001b[1;32mFalse\u001b[0m\u001b[1;33m,\u001b[0m\u001b[1;33m\u001b[0m\u001b[0m\n\u001b[1;32m--> 218\u001b[1;33m                     \u001b[1;33m**\u001b[0m\u001b[0madapter_kwargs\u001b[0m\u001b[1;33m\u001b[0m\u001b[0m\n\u001b[0m\u001b[0;32m    219\u001b[0m                 )\n\u001b[0;32m    220\u001b[0m \u001b[1;33m\u001b[0m\u001b[0m\n",
      "\u001b[1;32mD:\\AnacondaForPython3\\lib\\site-packages\\requests\\sessions.py\u001b[0m in \u001b[0;36msend\u001b[1;34m(self, request, **kwargs)\u001b[0m\n\u001b[0;32m    616\u001b[0m \u001b[1;33m\u001b[0m\u001b[0m\n\u001b[0;32m    617\u001b[0m         \u001b[1;31m# Send the request\u001b[0m\u001b[1;33m\u001b[0m\u001b[1;33m\u001b[0m\u001b[0m\n\u001b[1;32m--> 618\u001b[1;33m         \u001b[0mr\u001b[0m \u001b[1;33m=\u001b[0m \u001b[0madapter\u001b[0m\u001b[1;33m.\u001b[0m\u001b[0msend\u001b[0m\u001b[1;33m(\u001b[0m\u001b[0mrequest\u001b[0m\u001b[1;33m,\u001b[0m \u001b[1;33m**\u001b[0m\u001b[0mkwargs\u001b[0m\u001b[1;33m)\u001b[0m\u001b[1;33m\u001b[0m\u001b[0m\n\u001b[0m\u001b[0;32m    619\u001b[0m \u001b[1;33m\u001b[0m\u001b[0m\n\u001b[0;32m    620\u001b[0m         \u001b[1;31m# Total elapsed time of the request (approximately)\u001b[0m\u001b[1;33m\u001b[0m\u001b[1;33m\u001b[0m\u001b[0m\n",
      "\u001b[1;32mD:\\AnacondaForPython3\\lib\\site-packages\\requests\\adapters.py\u001b[0m in \u001b[0;36msend\u001b[1;34m(self, request, stream, timeout, verify, cert, proxies)\u001b[0m\n\u001b[0;32m    438\u001b[0m                     \u001b[0mdecode_content\u001b[0m\u001b[1;33m=\u001b[0m\u001b[1;32mFalse\u001b[0m\u001b[1;33m,\u001b[0m\u001b[1;33m\u001b[0m\u001b[0m\n\u001b[0;32m    439\u001b[0m                     \u001b[0mretries\u001b[0m\u001b[1;33m=\u001b[0m\u001b[0mself\u001b[0m\u001b[1;33m.\u001b[0m\u001b[0mmax_retries\u001b[0m\u001b[1;33m,\u001b[0m\u001b[1;33m\u001b[0m\u001b[0m\n\u001b[1;32m--> 440\u001b[1;33m                     \u001b[0mtimeout\u001b[0m\u001b[1;33m=\u001b[0m\u001b[0mtimeout\u001b[0m\u001b[1;33m\u001b[0m\u001b[0m\n\u001b[0m\u001b[0;32m    441\u001b[0m                 )\n\u001b[0;32m    442\u001b[0m \u001b[1;33m\u001b[0m\u001b[0m\n",
      "\u001b[1;32mD:\\AnacondaForPython3\\lib\\site-packages\\urllib3\\connectionpool.py\u001b[0m in \u001b[0;36murlopen\u001b[1;34m(self, method, url, body, headers, retries, redirect, assert_same_host, timeout, pool_timeout, release_conn, chunked, body_pos, **response_kw)\u001b[0m\n\u001b[0;32m    593\u001b[0m             \u001b[0mis_new_proxy_conn\u001b[0m \u001b[1;33m=\u001b[0m \u001b[0mself\u001b[0m\u001b[1;33m.\u001b[0m\u001b[0mproxy\u001b[0m \u001b[1;32mis\u001b[0m \u001b[1;32mnot\u001b[0m \u001b[1;32mNone\u001b[0m \u001b[1;32mand\u001b[0m \u001b[1;32mnot\u001b[0m \u001b[0mgetattr\u001b[0m\u001b[1;33m(\u001b[0m\u001b[0mconn\u001b[0m\u001b[1;33m,\u001b[0m \u001b[1;34m'sock'\u001b[0m\u001b[1;33m,\u001b[0m \u001b[1;32mNone\u001b[0m\u001b[1;33m)\u001b[0m\u001b[1;33m\u001b[0m\u001b[0m\n\u001b[0;32m    594\u001b[0m             \u001b[1;32mif\u001b[0m \u001b[0mis_new_proxy_conn\u001b[0m\u001b[1;33m:\u001b[0m\u001b[1;33m\u001b[0m\u001b[0m\n\u001b[1;32m--> 595\u001b[1;33m                 \u001b[0mself\u001b[0m\u001b[1;33m.\u001b[0m\u001b[0m_prepare_proxy\u001b[0m\u001b[1;33m(\u001b[0m\u001b[0mconn\u001b[0m\u001b[1;33m)\u001b[0m\u001b[1;33m\u001b[0m\u001b[0m\n\u001b[0m\u001b[0;32m    596\u001b[0m \u001b[1;33m\u001b[0m\u001b[0m\n\u001b[0;32m    597\u001b[0m             \u001b[1;31m# Make the request on the httplib connection object.\u001b[0m\u001b[1;33m\u001b[0m\u001b[1;33m\u001b[0m\u001b[0m\n",
      "\u001b[1;32mD:\\AnacondaForPython3\\lib\\site-packages\\urllib3\\connectionpool.py\u001b[0m in \u001b[0;36m_prepare_proxy\u001b[1;34m(self, conn)\u001b[0m\n\u001b[0;32m    814\u001b[0m             \u001b[0mset_tunnel\u001b[0m\u001b[1;33m(\u001b[0m\u001b[0mself\u001b[0m\u001b[1;33m.\u001b[0m\u001b[0m_proxy_host\u001b[0m\u001b[1;33m,\u001b[0m \u001b[0mself\u001b[0m\u001b[1;33m.\u001b[0m\u001b[0mport\u001b[0m\u001b[1;33m,\u001b[0m \u001b[0mself\u001b[0m\u001b[1;33m.\u001b[0m\u001b[0mproxy_headers\u001b[0m\u001b[1;33m)\u001b[0m\u001b[1;33m\u001b[0m\u001b[0m\n\u001b[0;32m    815\u001b[0m \u001b[1;33m\u001b[0m\u001b[0m\n\u001b[1;32m--> 816\u001b[1;33m         \u001b[0mconn\u001b[0m\u001b[1;33m.\u001b[0m\u001b[0mconnect\u001b[0m\u001b[1;33m(\u001b[0m\u001b[1;33m)\u001b[0m\u001b[1;33m\u001b[0m\u001b[0m\n\u001b[0m\u001b[0;32m    817\u001b[0m \u001b[1;33m\u001b[0m\u001b[0m\n\u001b[0;32m    818\u001b[0m     \u001b[1;32mdef\u001b[0m \u001b[0m_new_conn\u001b[0m\u001b[1;33m(\u001b[0m\u001b[0mself\u001b[0m\u001b[1;33m)\u001b[0m\u001b[1;33m:\u001b[0m\u001b[1;33m\u001b[0m\u001b[0m\n",
      "\u001b[1;32mD:\\AnacondaForPython3\\lib\\site-packages\\urllib3\\connection.py\u001b[0m in \u001b[0;36mconnect\u001b[1;34m(self)\u001b[0m\n\u001b[0;32m    324\u001b[0m             \u001b[0mca_cert_dir\u001b[0m\u001b[1;33m=\u001b[0m\u001b[0mself\u001b[0m\u001b[1;33m.\u001b[0m\u001b[0mca_cert_dir\u001b[0m\u001b[1;33m,\u001b[0m\u001b[1;33m\u001b[0m\u001b[0m\n\u001b[0;32m    325\u001b[0m             \u001b[0mserver_hostname\u001b[0m\u001b[1;33m=\u001b[0m\u001b[0mhostname\u001b[0m\u001b[1;33m,\u001b[0m\u001b[1;33m\u001b[0m\u001b[0m\n\u001b[1;32m--> 326\u001b[1;33m             ssl_context=context)\n\u001b[0m\u001b[0;32m    327\u001b[0m \u001b[1;33m\u001b[0m\u001b[0m\n\u001b[0;32m    328\u001b[0m         \u001b[1;32mif\u001b[0m \u001b[0mself\u001b[0m\u001b[1;33m.\u001b[0m\u001b[0massert_fingerprint\u001b[0m\u001b[1;33m:\u001b[0m\u001b[1;33m\u001b[0m\u001b[0m\n",
      "\u001b[1;32mD:\\AnacondaForPython3\\lib\\site-packages\\urllib3\\util\\ssl_.py\u001b[0m in \u001b[0;36mssl_wrap_socket\u001b[1;34m(sock, keyfile, certfile, cert_reqs, ca_certs, server_hostname, ssl_version, ciphers, ssl_context, ca_cert_dir)\u001b[0m\n\u001b[0;32m    327\u001b[0m         \u001b[0mcontext\u001b[0m\u001b[1;33m.\u001b[0m\u001b[0mload_cert_chain\u001b[0m\u001b[1;33m(\u001b[0m\u001b[0mcertfile\u001b[0m\u001b[1;33m,\u001b[0m \u001b[0mkeyfile\u001b[0m\u001b[1;33m)\u001b[0m\u001b[1;33m\u001b[0m\u001b[0m\n\u001b[0;32m    328\u001b[0m     \u001b[1;32mif\u001b[0m \u001b[0mHAS_SNI\u001b[0m\u001b[1;33m:\u001b[0m  \u001b[1;31m# Platform-specific: OpenSSL with enabled SNI\u001b[0m\u001b[1;33m\u001b[0m\u001b[0m\n\u001b[1;32m--> 329\u001b[1;33m         \u001b[1;32mreturn\u001b[0m \u001b[0mcontext\u001b[0m\u001b[1;33m.\u001b[0m\u001b[0mwrap_socket\u001b[0m\u001b[1;33m(\u001b[0m\u001b[0msock\u001b[0m\u001b[1;33m,\u001b[0m \u001b[0mserver_hostname\u001b[0m\u001b[1;33m=\u001b[0m\u001b[0mserver_hostname\u001b[0m\u001b[1;33m)\u001b[0m\u001b[1;33m\u001b[0m\u001b[0m\n\u001b[0m\u001b[0;32m    330\u001b[0m \u001b[1;33m\u001b[0m\u001b[0m\n\u001b[0;32m    331\u001b[0m     warnings.warn(\n",
      "\u001b[1;32mD:\\AnacondaForPython3\\lib\\site-packages\\urllib3\\contrib\\pyopenssl.py\u001b[0m in \u001b[0;36mwrap_socket\u001b[1;34m(self, sock, server_side, do_handshake_on_connect, suppress_ragged_eofs, server_hostname)\u001b[0m\n\u001b[0;32m    439\u001b[0m         \u001b[1;32mwhile\u001b[0m \u001b[1;32mTrue\u001b[0m\u001b[1;33m:\u001b[0m\u001b[1;33m\u001b[0m\u001b[0m\n\u001b[0;32m    440\u001b[0m             \u001b[1;32mtry\u001b[0m\u001b[1;33m:\u001b[0m\u001b[1;33m\u001b[0m\u001b[0m\n\u001b[1;32m--> 441\u001b[1;33m                 \u001b[0mcnx\u001b[0m\u001b[1;33m.\u001b[0m\u001b[0mdo_handshake\u001b[0m\u001b[1;33m(\u001b[0m\u001b[1;33m)\u001b[0m\u001b[1;33m\u001b[0m\u001b[0m\n\u001b[0m\u001b[0;32m    442\u001b[0m             \u001b[1;32mexcept\u001b[0m \u001b[0mOpenSSL\u001b[0m\u001b[1;33m.\u001b[0m\u001b[0mSSL\u001b[0m\u001b[1;33m.\u001b[0m\u001b[0mWantReadError\u001b[0m\u001b[1;33m:\u001b[0m\u001b[1;33m\u001b[0m\u001b[0m\n\u001b[0;32m    443\u001b[0m                 \u001b[0mrd\u001b[0m \u001b[1;33m=\u001b[0m \u001b[0mutil\u001b[0m\u001b[1;33m.\u001b[0m\u001b[0mwait_for_read\u001b[0m\u001b[1;33m(\u001b[0m\u001b[0msock\u001b[0m\u001b[1;33m,\u001b[0m \u001b[0msock\u001b[0m\u001b[1;33m.\u001b[0m\u001b[0mgettimeout\u001b[0m\u001b[1;33m(\u001b[0m\u001b[1;33m)\u001b[0m\u001b[1;33m)\u001b[0m\u001b[1;33m\u001b[0m\u001b[0m\n",
      "\u001b[1;32mD:\\AnacondaForPython3\\lib\\site-packages\\OpenSSL\\SSL.py\u001b[0m in \u001b[0;36mdo_handshake\u001b[1;34m(self)\u001b[0m\n\u001b[0;32m   1904\u001b[0m         \u001b[1;33m:\u001b[0m\u001b[1;32mreturn\u001b[0m\u001b[1;33m:\u001b[0m \u001b[1;32mNone\u001b[0m\u001b[1;33m.\u001b[0m\u001b[1;33m\u001b[0m\u001b[0m\n\u001b[0;32m   1905\u001b[0m         \"\"\"\n\u001b[1;32m-> 1906\u001b[1;33m         \u001b[0mresult\u001b[0m \u001b[1;33m=\u001b[0m \u001b[0m_lib\u001b[0m\u001b[1;33m.\u001b[0m\u001b[0mSSL_do_handshake\u001b[0m\u001b[1;33m(\u001b[0m\u001b[0mself\u001b[0m\u001b[1;33m.\u001b[0m\u001b[0m_ssl\u001b[0m\u001b[1;33m)\u001b[0m\u001b[1;33m\u001b[0m\u001b[0m\n\u001b[0m\u001b[0;32m   1907\u001b[0m         \u001b[0mself\u001b[0m\u001b[1;33m.\u001b[0m\u001b[0m_raise_ssl_error\u001b[0m\u001b[1;33m(\u001b[0m\u001b[0mself\u001b[0m\u001b[1;33m.\u001b[0m\u001b[0m_ssl\u001b[0m\u001b[1;33m,\u001b[0m \u001b[0mresult\u001b[0m\u001b[1;33m)\u001b[0m\u001b[1;33m\u001b[0m\u001b[0m\n\u001b[0;32m   1908\u001b[0m \u001b[1;33m\u001b[0m\u001b[0m\n",
      "\u001b[1;31mKeyboardInterrupt\u001b[0m: "
     ]
    }
   ],
   "source": [
    "html = get_page_index(0, '街拍')\n",
    "for url in parse_page_index(html):\n",
    "    print(url)\n",
    "    html = get_page_detail(url)\n",
    "    if html:\n",
    "        result = parse_page_detail(html, url)"
   ]
  },
  {
   "cell_type": "code",
   "execution_count": 15,
   "metadata": {},
   "outputs": [],
   "source": []
  },
  {
   "cell_type": "code",
   "execution_count": null,
   "metadata": {},
   "outputs": [],
   "source": []
  }
 ],
 "metadata": {
  "kernelspec": {
   "display_name": "Python 3",
   "language": "python",
   "name": "python3"
  },
  "language_info": {
   "codemirror_mode": {
    "name": "ipython",
    "version": 3
   },
   "file_extension": ".py",
   "mimetype": "text/x-python",
   "name": "python",
   "nbconvert_exporter": "python",
   "pygments_lexer": "ipython3",
   "version": "3.6.5"
  }
 },
 "nbformat": 4,
 "nbformat_minor": 2
}
