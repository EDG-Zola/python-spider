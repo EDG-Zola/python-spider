{
 "cells": [
  {
   "cell_type": "code",
   "execution_count": 1,
   "metadata": {},
   "outputs": [],
   "source": [
    "import requests\n",
    "from requests.exceptions import RequestException\n",
    "from urllib.parse import urlencode #用于在网址链接中加入参数\n",
    "import json\n",
    "from bs4 import BeautifulSoup\n",
    "import re\n",
    "import os"
   ]
  },
  {
   "cell_type": "markdown",
   "metadata": {},
   "source": [
    "## 1 获取单页的html内容"
   ]
  },
  {
   "cell_type": "code",
   "execution_count": 2,
   "metadata": {},
   "outputs": [],
   "source": [
    "def get_page_index(page, query_word):\n",
    "    '''\n",
    "    Desc:\n",
    "        抓取通过offset实现Ajax异步加载的URL，返回当前offset的内容\n",
    "    param:\n",
    "        offset -- 为了实现Ajax异步加载，使用offset实现动态分页\n",
    "        keyword -- 搜索用的关键词\n",
    "    return:\n",
    "        res.text -- 当前offset的requests.text内容\n",
    "    '''\n",
    "    url = 'https://image.baidu.com/search/index?'\n",
    "    param = {\n",
    "        'tn':'resultjson_com',\n",
    "        'ipn':'rj',\n",
    "        'ct':201326592,\n",
    "        'is':'',\n",
    "        'fp':'result',\n",
    "        'queryWord': query_word,#用query_word参数传入\n",
    "        'cl':2,\n",
    "        'lm':-1,\n",
    "        'ie':'utf-8',\n",
    "        'oe':'utf-8',\n",
    "        'adpicid':'',\n",
    "        'st':'',\n",
    "        'z':'',\n",
    "        'ic':'',\n",
    "        'word': query_word, #用query_word参数传入\n",
    "        's':'',\n",
    "        'se':'',\n",
    "        'tab':'',\n",
    "        'width':'',\n",
    "        'height':'',\n",
    "        'face':'',\n",
    "        'istype':'',\n",
    "        'qc':'',\n",
    "        'nc':'',\n",
    "        'fr':'',\n",
    "        'pn':page, #用page参数传入\n",
    "        'rn':30\n",
    "    }\n",
    "    url = url + urlencode(param)\n",
    "    try:\n",
    "        res = requests.get(url)\n",
    "        res.encoding = 'utf-8'\n",
    "        #返回的状态码是整型\n",
    "        if res.status_code == 200:\n",
    "            return res.text\n",
    "        return None\n",
    "    except RequestException:\n",
    "        print(\"请求索引页面出错\")\n",
    "        return None"
   ]
  },
  {
   "cell_type": "markdown",
   "metadata": {},
   "source": [
    "## 2 解析单页html，获取每一张图片链接"
   ]
  },
  {
   "cell_type": "code",
   "execution_count": 3,
   "metadata": {},
   "outputs": [],
   "source": [
    "def parse_page_index(html):\n",
    "    '''\n",
    "    Desc:\n",
    "        解析当前offset的requests.text内容\n",
    "    param:\n",
    "        html -- 当前offset的res.text内容\n",
    "    return:\n",
    "        item.get('article_url') -- 组图中的文章链接\n",
    "    '''\n",
    "    data = json.loads(html) #将网页的js数据格式转换为json\n",
    "    if data and 'data' in data.keys():\n",
    "        for item in data.get('data'):\n",
    "            if item.get('middleURL') != None:\n",
    "                yield item.get('middleURL')"
   ]
  },
  {
   "cell_type": "markdown",
   "metadata": {},
   "source": [
    "## 3 下载每一个图片链接中的图片"
   ]
  },
  {
   "cell_type": "code",
   "execution_count": 4,
   "metadata": {},
   "outputs": [],
   "source": [
    "def download_one_image(url, file_name):\n",
    "    try:\n",
    "        res = requests.get(url)\n",
    "        if res.status_code == 200:\n",
    "            if not os.path.exists(file_name):\n",
    "                with open(file_name, 'wb') as f:\n",
    "                    f.write(res.content)\n",
    "                    f.close()\n",
    "    except RequestException:\n",
    "        print(\"下载图片出错\")"
   ]
  },
  {
   "cell_type": "markdown",
   "metadata": {},
   "source": [
    "## main函数内容"
   ]
  },
  {
   "cell_type": "code",
   "execution_count": 8,
   "metadata": {
    "scrolled": true
   },
   "outputs": [
    {
     "name": "stdout",
     "output_type": "stream",
     "text": [
      "https://ss1.bdstatic.com/70cFuXSh_Q1YnxGkpoWK1HF6hhy/it/u=3986077498,2433608057&fm=200&gp=0.jpg\n",
      "https://ss1.bdstatic.com/70cFvXSh_Q1YnxGkpoWK1HF6hhy/it/u=3297485105,850674098&fm=27&gp=0.jpg\n",
      "https://ss2.bdstatic.com/70cFvnSh_Q1YnxGkpoWK1HF6hhy/it/u=198443279,925180209&fm=27&gp=0.jpg\n",
      "https://ss2.bdstatic.com/70cFvnSh_Q1YnxGkpoWK1HF6hhy/it/u=3342390612,1968312186&fm=27&gp=0.jpg\n",
      "https://ss3.bdstatic.com/70cFv8Sh_Q1YnxGkpoWK1HF6hhy/it/u=3803132927,1471289048&fm=27&gp=0.jpg\n",
      "https://ss2.bdstatic.com/70cFvnSh_Q1YnxGkpoWK1HF6hhy/it/u=3889983911,3303803869&fm=27&gp=0.jpg\n",
      "https://ss0.bdstatic.com/70cFuHSh_Q1YnxGkpoWK1HF6hhy/it/u=3102012105,109195801&fm=27&gp=0.jpg\n",
      "https://ss3.bdstatic.com/70cFv8Sh_Q1YnxGkpoWK1HF6hhy/it/u=1264307227,4225906356&fm=27&gp=0.jpg\n",
      "https://ss0.bdstatic.com/70cFvHSh_Q1YnxGkpoWK1HF6hhy/it/u=1968426306,3270184786&fm=27&gp=0.jpg\n",
      "https://ss0.bdstatic.com/70cFuHSh_Q1YnxGkpoWK1HF6hhy/it/u=1931987084,3109106226&fm=27&gp=0.jpg\n",
      "https://ss1.bdstatic.com/70cFuXSh_Q1YnxGkpoWK1HF6hhy/it/u=53002852,2932941271&fm=27&gp=0.jpg\n",
      "https://ss3.bdstatic.com/70cFv8Sh_Q1YnxGkpoWK1HF6hhy/it/u=4003902815,1227572258&fm=27&gp=0.jpg\n",
      "https://ss1.bdstatic.com/70cFuXSh_Q1YnxGkpoWK1HF6hhy/it/u=335814053,3819079278&fm=27&gp=0.jpg\n",
      "https://ss2.bdstatic.com/70cFvnSh_Q1YnxGkpoWK1HF6hhy/it/u=3265122448,550755856&fm=27&gp=0.jpg\n",
      "https://ss1.bdstatic.com/70cFuXSh_Q1YnxGkpoWK1HF6hhy/it/u=417213405,1221475556&fm=27&gp=0.jpg\n",
      "https://ss0.bdstatic.com/70cFvHSh_Q1YnxGkpoWK1HF6hhy/it/u=2061463544,1142839588&fm=27&gp=0.jpg\n",
      "https://ss1.bdstatic.com/70cFuXSh_Q1YnxGkpoWK1HF6hhy/it/u=2901497010,3679747227&fm=27&gp=0.jpg\n",
      "https://ss2.bdstatic.com/70cFvnSh_Q1YnxGkpoWK1HF6hhy/it/u=567306798,4267271838&fm=27&gp=0.jpg\n",
      "https://ss2.bdstatic.com/70cFvnSh_Q1YnxGkpoWK1HF6hhy/it/u=3728184078,800943138&fm=27&gp=0.jpg\n",
      "https://ss3.bdstatic.com/70cFv8Sh_Q1YnxGkpoWK1HF6hhy/it/u=1823029088,2434840717&fm=27&gp=0.jpg\n",
      "https://ss2.bdstatic.com/70cFvnSh_Q1YnxGkpoWK1HF6hhy/it/u=3525089838,1324461426&fm=27&gp=0.jpg\n",
      "https://ss1.bdstatic.com/70cFvXSh_Q1YnxGkpoWK1HF6hhy/it/u=2776920916,2251814575&fm=27&gp=0.jpg\n",
      "https://ss2.bdstatic.com/70cFvnSh_Q1YnxGkpoWK1HF6hhy/it/u=1005549574,2820311662&fm=27&gp=0.jpg\n",
      "https://ss1.bdstatic.com/70cFvXSh_Q1YnxGkpoWK1HF6hhy/it/u=2784213826,678030885&fm=27&gp=0.jpg\n",
      "https://ss0.bdstatic.com/70cFvHSh_Q1YnxGkpoWK1HF6hhy/it/u=1622848449,3883111555&fm=27&gp=0.jpg\n",
      "https://ss0.bdstatic.com/70cFuHSh_Q1YnxGkpoWK1HF6hhy/it/u=1172857812,2363425696&fm=27&gp=0.jpg\n",
      "https://ss2.bdstatic.com/70cFvnSh_Q1YnxGkpoWK1HF6hhy/it/u=3706677817,1678627265&fm=27&gp=0.jpg\n",
      "https://ss2.bdstatic.com/70cFvnSh_Q1YnxGkpoWK1HF6hhy/it/u=1187847886,1624855786&fm=27&gp=0.jpg\n",
      "https://ss2.bdstatic.com/70cFvnSh_Q1YnxGkpoWK1HF6hhy/it/u=1497899204,1360265214&fm=27&gp=0.jpg\n",
      "https://ss2.bdstatic.com/70cFvnSh_Q1YnxGkpoWK1HF6hhy/it/u=256242693,454459979&fm=27&gp=0.jpg\n",
      "https://ss0.bdstatic.com/70cFuHSh_Q1YnxGkpoWK1HF6hhy/it/u=2124552281,373203665&fm=27&gp=0.jpg\n",
      "https://ss3.bdstatic.com/70cFv8Sh_Q1YnxGkpoWK1HF6hhy/it/u=2566090557,2595475072&fm=27&gp=0.jpg\n",
      "https://ss1.bdstatic.com/70cFuXSh_Q1YnxGkpoWK1HF6hhy/it/u=1246855839,4266526638&fm=200&gp=0.jpg\n",
      "https://ss3.bdstatic.com/70cFv8Sh_Q1YnxGkpoWK1HF6hhy/it/u=3119789682,3574591933&fm=27&gp=0.jpg\n",
      "https://ss2.bdstatic.com/70cFvnSh_Q1YnxGkpoWK1HF6hhy/it/u=2262730360,1393064134&fm=200&gp=0.jpg\n",
      "https://ss0.bdstatic.com/70cFvHSh_Q1YnxGkpoWK1HF6hhy/it/u=1000784477,500586409&fm=27&gp=0.jpg\n",
      "https://ss1.bdstatic.com/70cFvXSh_Q1YnxGkpoWK1HF6hhy/it/u=3866469972,1034542655&fm=27&gp=0.jpg\n",
      "https://ss3.bdstatic.com/70cFv8Sh_Q1YnxGkpoWK1HF6hhy/it/u=3343703190,427269021&fm=27&gp=0.jpg\n",
      "https://ss3.bdstatic.com/70cFv8Sh_Q1YnxGkpoWK1HF6hhy/it/u=2727197796,1701173983&fm=27&gp=0.jpg\n",
      "https://ss1.bdstatic.com/70cFvXSh_Q1YnxGkpoWK1HF6hhy/it/u=342225627,2060717506&fm=200&gp=0.jpg\n",
      "https://ss1.bdstatic.com/70cFuXSh_Q1YnxGkpoWK1HF6hhy/it/u=1573306783,97525258&fm=27&gp=0.jpg\n",
      "https://ss1.bdstatic.com/70cFvXSh_Q1YnxGkpoWK1HF6hhy/it/u=2174171352,3596940977&fm=27&gp=0.jpg\n",
      "https://ss1.bdstatic.com/70cFvXSh_Q1YnxGkpoWK1HF6hhy/it/u=2096597747,3434804952&fm=200&gp=0.jpg\n",
      "https://ss0.bdstatic.com/70cFuHSh_Q1YnxGkpoWK1HF6hhy/it/u=121698783,2654126545&fm=200&gp=0.jpg\n",
      "https://ss3.bdstatic.com/70cFv8Sh_Q1YnxGkpoWK1HF6hhy/it/u=961604508,3941977555&fm=27&gp=0.jpg\n",
      "https://ss2.bdstatic.com/70cFvnSh_Q1YnxGkpoWK1HF6hhy/it/u=2728920885,2307992835&fm=200&gp=0.jpg\n",
      "https://ss0.bdstatic.com/70cFuHSh_Q1YnxGkpoWK1HF6hhy/it/u=1016715993,4288147901&fm=200&gp=0.jpg\n",
      "https://ss1.bdstatic.com/70cFvXSh_Q1YnxGkpoWK1HF6hhy/it/u=971527123,2890483680&fm=200&gp=0.jpg\n",
      "https://ss1.bdstatic.com/70cFuXSh_Q1YnxGkpoWK1HF6hhy/it/u=2954638109,2661868666&fm=27&gp=0.jpg\n",
      "https://ss3.bdstatic.com/70cFv8Sh_Q1YnxGkpoWK1HF6hhy/it/u=19593899,4173631252&fm=27&gp=0.jpg\n",
      "https://ss1.bdstatic.com/70cFuXSh_Q1YnxGkpoWK1HF6hhy/it/u=1378038309,3823011210&fm=200&gp=0.jpg\n",
      "https://ss0.bdstatic.com/70cFuHSh_Q1YnxGkpoWK1HF6hhy/it/u=2242314764,4056250668&fm=200&gp=0.jpg\n",
      "https://ss0.bdstatic.com/70cFuHSh_Q1YnxGkpoWK1HF6hhy/it/u=656163148,3622596324&fm=200&gp=0.jpg\n",
      "https://ss2.bdstatic.com/70cFvnSh_Q1YnxGkpoWK1HF6hhy/it/u=2201524917,2257690035&fm=200&gp=0.jpg\n",
      "https://ss1.bdstatic.com/70cFvXSh_Q1YnxGkpoWK1HF6hhy/it/u=3084491135,1995379980&fm=27&gp=0.jpg\n",
      "https://ss1.bdstatic.com/70cFvXSh_Q1YnxGkpoWK1HF6hhy/it/u=979145737,1884358530&fm=200&gp=0.jpg\n",
      "https://ss1.bdstatic.com/70cFuXSh_Q1YnxGkpoWK1HF6hhy/it/u=1186036576,1852335541&fm=200&gp=0.jpg\n",
      "https://ss1.bdstatic.com/70cFvXSh_Q1YnxGkpoWK1HF6hhy/it/u=3579245116,4288384441&fm=27&gp=0.jpg\n",
      "https://ss1.bdstatic.com/70cFuXSh_Q1YnxGkpoWK1HF6hhy/it/u=2393430041,89152170&fm=200&gp=0.jpg\n",
      "https://ss2.bdstatic.com/70cFvnSh_Q1YnxGkpoWK1HF6hhy/it/u=2185288171,2538456653&fm=200&gp=0.jpg\n"
     ]
    }
   ],
   "source": [
    "i=1\n",
    "image_urls = []\n",
    "start_page = 1\n",
    "end_page = 3\n",
    "for page in range(start_page, end_page):\n",
    "    html = get_page_index(30*page, '猫')\n",
    "    for url in parse_page_index(html):\n",
    "        print(url)\n",
    "        path = \"I:/文档/爬虫数据/baidu_cat_images\" #图片存储目录\n",
    "        file_name = '{0}/{1}{2}'.format(path, i, '.jpg')\n",
    "        download_one_image(url, file_name)\n",
    "        image_url = {}\n",
    "        image_url[str(i)] = url\n",
    "        image_urls.append(image_url)\n",
    "        i += 1\n",
    "with open('result.json', 'a', encoding='utf-8') as f:\n",
    "            f.write(json.dumps(image_urls, ensure_ascii=False) + '\\n')"
   ]
  },
  {
   "cell_type": "code",
   "execution_count": null,
   "metadata": {},
   "outputs": [],
   "source": [
    "start_page = 1\n",
    "end_page = 3\n",
    "groups = [i*30 for i in range(start_page, end_page)]"
   ]
  },
  {
   "cell_type": "code",
   "execution_count": null,
   "metadata": {},
   "outputs": [],
   "source": [
    "groups"
   ]
  },
  {
   "cell_type": "code",
   "execution_count": null,
   "metadata": {},
   "outputs": [],
   "source": []
  }
 ],
 "metadata": {
  "kernelspec": {
   "display_name": "Python 3",
   "language": "python",
   "name": "python3"
  },
  "language_info": {
   "codemirror_mode": {
    "name": "ipython",
    "version": 3
   },
   "file_extension": ".py",
   "mimetype": "text/x-python",
   "name": "python",
   "nbconvert_exporter": "python",
   "pygments_lexer": "ipython3",
   "version": "3.6.5"
  }
 },
 "nbformat": 4,
 "nbformat_minor": 2
}
