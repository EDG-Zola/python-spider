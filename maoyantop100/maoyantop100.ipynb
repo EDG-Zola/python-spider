{
 "cells": [
  {
   "cell_type": "code",
   "execution_count": 202,
   "metadata": {},
   "outputs": [],
   "source": [
    "import requests\n",
    "from bs4 import BeautifulSoup\n",
    "import re\n",
    "import json"
   ]
  },
  {
   "cell_type": "code",
   "execution_count": 242,
   "metadata": {},
   "outputs": [],
   "source": [
    "url = 'https://maoyan.com/board/4'\n",
    "headers = {'user-agent':'Mozilla/5.0'}\n",
    "res = requests.get(url, headers=headers)\n",
    "\n",
    "soup = BeautifulSoup(res.text, 'html.parser')\n",
    "\n",
    "#单个影片解析\n",
    "movie_lists = soup.select('.board-wrapper dd a')[0] #0,1表示第一个电影\n",
    "movie_name = soup.select('.board-wrapper dd a')[0]['title']\n",
    "stars = soup.select('.board-wrapper .star')[0].text.lstrip('\\n                主演：').rstrip('\\n ')\n",
    "release_time = soup.select('.board-wrapper .releasetime')[0].text.split('上映时间：')[-1].split('(')[0]\n",
    "release_place = soup.select('.board-wrapper .releasetime')[0].text.split('上映时间：')[-1].split('(')[-1].split(')')[0]\n",
    "rank = soup.select('.board-wrapper dd i')[0].text\n",
    "score = soup.select('.board-wrapper dd i')[1].text + soup.select('.board-wrapper dd i')[2].text\n",
    "image_link = soup.select('.board-wrapper dd img')[1][\"data-src\"] #0,1,2表示第一步影片"
   ]
  },
  {
   "cell_type": "code",
   "execution_count": 246,
   "metadata": {},
   "outputs": [],
   "source": [
    "movie_info = {}\n",
    "# movie_info['movie_lists'] = movie_lists \n",
    "movie_info['movie_name'] = movie_name #电影名字\n",
    "movie_info['stars'] = stars #主演\n",
    "movie_info['release_time'] = release_time #上映时间\n",
    "movie_info['release_place'] = release_place #上映地点\n",
    "movie_info['rank'] = rank #排名\n",
    "movie_info['score'] = score #得分\n",
    "movie_info['image_link'] = image_link #海报图片链接\n",
    "\n"
   ]
  },
  {
   "cell_type": "code",
   "execution_count": 265,
   "metadata": {},
   "outputs": [],
   "source": [
    "for "
   ]
  },
  {
   "cell_type": "code",
   "execution_count": 266,
   "metadata": {},
   "outputs": [
    {
     "data": {
      "text/plain": [
       "[]"
      ]
     },
     "execution_count": 266,
     "metadata": {},
     "output_type": "execute_result"
    }
   ],
   "source": [
    "movie_lists"
   ]
  },
  {
   "cell_type": "code",
   "execution_count": null,
   "metadata": {},
   "outputs": [],
   "source": []
  }
 ],
 "metadata": {
  "kernelspec": {
   "display_name": "Python 3",
   "language": "python",
   "name": "python3"
  },
  "language_info": {
   "codemirror_mode": {
    "name": "ipython",
    "version": 3
   },
   "file_extension": ".py",
   "mimetype": "text/x-python",
   "name": "python",
   "nbconvert_exporter": "python",
   "pygments_lexer": "ipython3",
   "version": "3.6.5"
  }
 },
 "nbformat": 4,
 "nbformat_minor": 2
}
