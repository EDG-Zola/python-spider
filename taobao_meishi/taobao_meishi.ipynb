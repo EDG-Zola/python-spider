{
 "cells": [
  {
   "cell_type": "code",
   "execution_count": null,
   "metadata": {},
   "outputs": [],
   "source": [
    "from selenium import webdriver\n",
    "from selenium.webdriver.common.by import By\n",
    "from selenium.webdriver.support.ui import WebDriverWait\n",
    "from selenium.webdriver.support import expected_conditions as EC\n",
    "from selenium.common.exceptions import TimeoutException\n",
    "import re\n",
    "from bs4 import BeautifulSoup"
   ]
  },
  {
   "cell_type": "markdown",
   "metadata": {},
   "source": [
    "模拟浏览器进入淘宝网，搜索特定关键字后，点击确定\n",
    "![以CSS方式选择输入框](input.jpg)"
   ]
  },
  {
   "cell_type": "markdown",
   "metadata": {},
   "source": [
    "## 模拟搜索关键字美食，并点击搜索按钮，进行跳转"
   ]
  },
  {
   "cell_type": "code",
   "execution_count": null,
   "metadata": {},
   "outputs": [],
   "source": [
    "def search(keyword):\n",
    "    try:\n",
    "        browser.get('https://www.taobao.com/') #模拟浏览器进入淘宝网\n",
    "        #等待直到局部元素显示出来,这里的局部元素为淘宝网页搜索框部分\n",
    "        input = wait.until(\n",
    "            EC.presence_of_element_located((By.CSS_SELECTOR, \"#q\"))\n",
    "        )\n",
    "        #等待直到元素可被点击,这里的元素为搜索按钮\n",
    "        submit = wait.until(EC.element_to_be_clickable((By.CSS_SELECTOR, '#J_TSearchForm > div.search-button > button')))\n",
    "        input.send_keys(keyword) #在输入框调用send_keys方法模拟输入关键字\n",
    "        submit.click() #模拟点击搜索按钮操作\n",
    "        #点击之后，等待页面刷新，这里的条件为直到局部元素显示出来,这里的局部元素为下一页的总页数部分\n",
    "        total = wait.until(EC.presence_of_element_located((By.CSS_SELECTOR, '#mainsrp-pager > div > div > div > div.total')))\n",
    "        return total.text\n",
    "    #发生延时异常时，重新调用search()方法\n",
    "    except TimeoutException:\n",
    "        search(keyword)"
   ]
  },
  {
   "cell_type": "markdown",
   "metadata": {},
   "source": [
    "## 输入下一页页码，并点击确定，进行跳转"
   ]
  },
  {
   "cell_type": "code",
   "execution_count": null,
   "metadata": {},
   "outputs": [],
   "source": [
    "def next_page(page_number):\n",
    "    try:\n",
    "         #等待直到局部元素显示出来,这里的局部元素为到第[2]页中的[..]\n",
    "        input = wait.until(\n",
    "            EC.presence_of_element_located((By.CSS_SELECTOR, \"#mainsrp-pager > div > div > div > div.form > input\"))\n",
    "        )\n",
    "        #等待直到元素可被点击,这里的元素为输入页码后的的确定按钮\n",
    "        submit = wait.until(EC.element_to_be_clickable((By.CSS_SELECTOR, '#mainsrp-pager > div > div > div > div.form > span.btn.J_Submit')))\n",
    "        input.clear() #清除当前输入框中的内容\n",
    "        input.send_keys(page_number) #把下一页的页码传入输入框中\n",
    "        submit.click() #模拟点击确定按钮，跳转到下一页的操作\n",
    "        #点击之后，等待页面刷新，这里的条件为直到局部元素显示出来,这里的局部元素为数字页码在填充方框这个元素中\n",
    "        wait.until(\n",
    "            EC.text_to_be_present_in_element((By.CSS_SELECTOR, \\\n",
    "                                              '#mainsrp-pager > div > div > div > ul > li.item.active > span'), str(page_number))\n",
    "                  )\n",
    "        get_products()\n",
    "    #发生延时异常时，重新调用next_page(page_number)方法\n",
    "    except TimeoutException:\n",
    "        next_page(page_number)"
   ]
  },
  {
   "cell_type": "markdown",
   "metadata": {},
   "source": [
    "## 解析每一页中的宝贝信息"
   ]
  },
  {
   "cell_type": "code",
   "execution_count": null,
   "metadata": {},
   "outputs": [],
   "source": [
    "def get_products():\n",
    "    '''\n",
    "    Desc:\n",
    "        使用BeautifulSoup解析每一个产品的信息（图片、价格、付款人数、标题、店铺名、店铺地点）\n",
    "    '''\n",
    "    #等待每一个图片元素加载出来\n",
    "    wait.until(EC.presence_of_element_located((By.CSS_SELECTOR, \"#mainsrp-itemlist .items .item\")))\n",
    "    html = browser.page_source\n",
    "    soup = BeautifulSoup(html, 'html.parser')\n",
    "    items = soup.select('#mainsrp-itemlist .items .item')\n",
    "    for item in items:\n",
    "        product = {\n",
    "            'image': item.select('.pic img')[0]['src'],\n",
    "            'price': item.select('.price')[0].text,\n",
    "            'deal_number': item.select('.deal-cnt')[0].text[:-3],\n",
    "            'title': item.select('.title')[0].text,\n",
    "            'shop': item.select('.shop')[0].text.strip(),\n",
    "            'location': item.select('.location')[0].text.strip()\n",
    "        }\n",
    "        "
   ]
  },
  {
   "cell_type": "code",
   "execution_count": null,
   "metadata": {},
   "outputs": [],
   "source": [
    "browser = webdriver.Chrome()\n",
    "wait = WebDriverWait(browser, 10) #等待\n",
    "keyword = '美食'\n",
    "total = search(keyword)\n",
    "#使用strip方法去除字符串中的不需要的内容，取出其中的数字\n",
    "#也可以使用正则表达式, \\d表示匹配任意的一个10进制数，+表示匹配前边的原子1次或多次\n",
    "#total = int(re.compile('(\\d+)').search(total).group(1))\n",
    "total = int(total.lstrip('共 ').rstrip(' 页，'))\n",
    "for i in range(2,3):\n",
    "     next_page(i)\n"
   ]
  },
  {
   "cell_type": "code",
   "execution_count": null,
   "metadata": {},
   "outputs": [],
   "source": [
    "print(items[0].select('.location')[0].text.strip())"
   ]
  },
  {
   "cell_type": "code",
   "execution_count": null,
   "metadata": {},
   "outputs": [],
   "source": []
  },
  {
   "cell_type": "code",
   "execution_count": null,
   "metadata": {},
   "outputs": [],
   "source": []
  }
 ],
 "metadata": {
  "kernelspec": {
   "display_name": "Python 3",
   "language": "python",
   "name": "python3"
  },
  "language_info": {
   "codemirror_mode": {
    "name": "ipython",
    "version": 3
   },
   "file_extension": ".py",
   "mimetype": "text/x-python",
   "name": "python",
   "nbconvert_exporter": "python",
   "pygments_lexer": "ipython3",
   "version": "3.6.5"
  }
 },
 "nbformat": 4,
 "nbformat_minor": 2
}
