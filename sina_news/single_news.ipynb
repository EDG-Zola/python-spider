{
 "cells": [
  {
   "cell_type": "code",
   "execution_count": 28,
   "metadata": {},
   "outputs": [],
   "source": [
    "import requests\n",
    "from bs4 import BeautifulSoup\n",
    "from datetime import datetime\n",
    "\n",
    "#获取网页内容\n",
    "single_news_url = 'http://news.sina.com.cn/w/2018-07-09/doc-ihezpzwt6845530.shtml'\n",
    "res = requests.get(single_news_url)\n",
    "res.encoding = 'utf-8'\n",
    "\n",
    "#用BeautifulSoup解析网页\n",
    "soup = BeautifulSoup(res.text, 'html.parser')"
   ]
  },
  {
   "cell_type": "code",
   "execution_count": 29,
   "metadata": {},
   "outputs": [],
   "source": [
    "#抓取新闻标题\n",
    "main_title = soup.select('.main-title')[0].text\n"
   ]
  },
  {
   "cell_type": "code",
   "execution_count": 45,
   "metadata": {},
   "outputs": [],
   "source": [
    "#抓取新闻时间与来源\n",
    "news_time_str = soup.select('.date-source')[0].contents[1].text\n",
    "news_time_tuple = datetime.strptime(news_time_str,'%Y年%m月%d日 %H:%M')#新闻时间，存储格式为元组\n",
    "news_time_y_m_d_str = news_time_tuple.strftime('%Y-%m-%d')\n",
    "news_source = soup.select('.date-source a')[0].text #新闻来源"
   ]
  },
  {
   "cell_type": "code",
   "execution_count": 63,
   "metadata": {},
   "outputs": [],
   "source": [
    "#抓取文章正文内容\n",
    "news_contents = ' '.join([p.text.strip() for p in soup.select('.article p')[:-1]])#文章正文内容，以空格作为每段的分割"
   ]
  },
  {
   "cell_type": "code",
   "execution_count": 73,
   "metadata": {},
   "outputs": [],
   "source": [
    "#抓取责任编辑编辑\n",
    "news_author = soup.select('.article p')[-1].text.strip('责任编辑：').strip(' ')"
   ]
  },
  {
   "cell_type": "code",
   "execution_count": 100,
   "metadata": {},
   "outputs": [],
   "source": [
    "#抓取评论数和评论内容\n",
    "import requests\n",
    "import json\n",
    "news_comments_url = 'http://comment5.news.sina.com.cn/page/info?version=1&format=js&\\\n",
    "channel=gj&newsid=comos-hezpzwt6845530&group=&compress=0&\\\n",
    "ie=gbk&oe=gbk&page=1&page_size=20' #在JS下面找，去掉loader部分\n",
    "res_comments = requests.get(news_comments_url)\n",
    "news_comments_json = json.loads(res_comments.text.strip('var data=')) #加载json数据\n",
    "total_comments_number = news_comments_json['result']['count']['show']"
   ]
  },
  {
   "cell_type": "code",
   "execution_count": 101,
   "metadata": {},
   "outputs": [
    {
     "data": {
      "text/plain": [
       "264"
      ]
     },
     "execution_count": 101,
     "metadata": {},
     "output_type": "execute_result"
    }
   ],
   "source": [
    "total_comments_number"
   ]
  },
  {
   "cell_type": "code",
   "execution_count": null,
   "metadata": {},
   "outputs": [],
   "source": []
  }
 ],
 "metadata": {
  "kernelspec": {
   "display_name": "Python 3",
   "language": "python",
   "name": "python3"
  },
  "language_info": {
   "codemirror_mode": {
    "name": "ipython",
    "version": 3
   },
   "file_extension": ".py",
   "mimetype": "text/x-python",
   "name": "python",
   "nbconvert_exporter": "python",
   "pygments_lexer": "ipython3",
   "version": "3.6.5"
  }
 },
 "nbformat": 4,
 "nbformat_minor": 2
}
