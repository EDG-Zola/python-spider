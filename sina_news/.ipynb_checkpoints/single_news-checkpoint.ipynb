{
 "cells": [
  {
   "cell_type": "code",
   "execution_count": 1,
   "metadata": {},
   "outputs": [],
   "source": [
    "import requests\n",
    "from bs4 import BeautifulSoup\n",
    "from datetime import datetime\n",
    "\n",
    "#获取网页内容\n",
    "single_news_url = 'http://news.sina.com.cn/w/2018-07-09/doc-ihezpzwt6845530.shtml'\n",
    "res = requests.get(single_news_url)\n",
    "res.encoding = 'utf-8'\n",
    "\n",
    "#用BeautifulSoup解析网页\n",
    "soup = BeautifulSoup(res.text, 'html.parser')"
   ]
  },
  {
   "cell_type": "code",
   "execution_count": 2,
   "metadata": {},
   "outputs": [],
   "source": [
    "#抓取新闻标题\n",
    "main_title = soup.select('.main-title')[0].text\n"
   ]
  },
  {
   "cell_type": "code",
   "execution_count": 3,
   "metadata": {},
   "outputs": [],
   "source": [
    "#抓取新闻时间与来源\n",
    "news_time_str = soup.select('.date-source')[0].contents[1].text\n",
    "news_time_tuple = datetime.strptime(news_time_str,'%Y年%m月%d日 %H:%M')#新闻时间，存储格式为元组\n",
    "news_time_y_m_d_str = news_time_tuple.strftime('%Y-%m-%d')\n",
    "news_source = soup.select('.date-source a')[0].text #新闻来源"
   ]
  },
  {
   "cell_type": "code",
   "execution_count": 4,
   "metadata": {},
   "outputs": [],
   "source": [
    "#抓取文章正文内容\n",
    "news_contents = ' '.join([p.text.strip() for p in soup.select('.article p')[:-1]])#文章正文内容，以空格作为每段的分割"
   ]
  },
  {
   "cell_type": "code",
   "execution_count": 5,
   "metadata": {},
   "outputs": [],
   "source": [
    "#抓取责任编辑编辑\n",
    "news_author = soup.select('.article p')[-1].text.strip('责任编辑：').strip(' ')"
   ]
  },
  {
   "cell_type": "code",
   "execution_count": 7,
   "metadata": {},
   "outputs": [],
   "source": [
    "#抓取评论数和评论内容\n",
    "import requests\n",
    "import json\n",
    "news_comments_url = 'http://comment5.news.sina.com.cn/page/info?version=1&format=json&channel=gj&\\\n",
    "newsid=comos-hezpzwt6845530&group=undefined&compress=0&ie=utf-8&oe=utf-8&page=1&page_size=3&t_size=3&\\\n",
    "h_size=3&thread=1' #在JS下面找，去掉loader部分\n",
    "res_comments = requests.get(news_comments_url)\n",
    "news_comments_json = json.loads(res_comments.text.strip('var data=')) #加载json数据\n",
    "total_comments_number = news_comments_json['result']['count']['show']"
   ]
  },
  {
   "cell_type": "code",
   "execution_count": 8,
   "metadata": {},
   "outputs": [
    {
     "data": {
      "text/plain": [
       "314"
      ]
     },
     "execution_count": 8,
     "metadata": {},
     "output_type": "execute_result"
    }
   ],
   "source": [
    "total_comments_number"
   ]
  },
  {
   "cell_type": "code",
   "execution_count": 20,
   "metadata": {},
   "outputs": [],
   "source": [
    "#第十六课 剖析新闻标志符news_id\n",
    "## 方法一：使用python的spilt+strip方法\n",
    "newsid1 = single_news_url.split('/')[-1].lstrip('doc-i').rstrip('.shtml')\n",
    "## 方法二：使用正则表达式库re\n",
    "import re\n",
    "m = re.search('doc-i(.*).shtml',single_news_url)\n",
    "newsid2 = m.group(1) #参数1表示只搜索通配符*中的内容，0表示搜索引号中''全部的内容\n"
   ]
  },
  {
   "cell_type": "code",
   "execution_count": 21,
   "metadata": {},
   "outputs": [],
   "source": [
    "#第十七课 建立评论数抽取函数式\n",
    "import re\n",
    "import requests\n",
    "news_comments_url = 'http://comment5.news.sina.com.cn/page/info?version=1&format=json&channel=gj&\\\n",
    "newsid=comos-{}&group=undefined&compress=0&ie=utf-8&oe=utf-8&page=1&page_size=3&t_size=3&\\\n",
    "h_size=3&thread=1' #把newsid部分用{}替换掉\n",
    "\n",
    "def getCommentsCount(newsurl):\n",
    "    '''获取单个新闻正文后面的评论数'''\n",
    "    m = re.search('doc-i(.*).shtml',newsurl)#使用正则表达式搜索newsid\n",
    "    newsid = m.group(1) #参数1表示只搜索通配符*中的内容，0表示搜索引号中''全部的内容\n",
    "    res_comments = requests.get(news_comments_url.format(newsid)) #news_comments_url这个参数在函数外定义\n",
    "    news_comments_json = json.loads(res_comments.text.strip('var data=')) #加载json数据\n",
    "    total_comments_number = news_comments_json['result']['count']['show']\n",
    "    return total_comments_number"
   ]
  },
  {
   "cell_type": "code",
   "execution_count": 22,
   "metadata": {},
   "outputs": [
    {
     "data": {
      "text/plain": [
       "314"
      ]
     },
     "execution_count": 22,
     "metadata": {},
     "output_type": "execute_result"
    }
   ],
   "source": [
    "#第十七课 建立评论数抽取函数式\n",
    "##验证函数getCommentsCount\n",
    "single_news_url = 'http://news.sina.com.cn/w/2018-07-09/doc-ihezpzwt6845530.shtml'\n",
    "getCommentsCount(single_news_url)"
   ]
  },
  {
   "cell_type": "code",
   "execution_count": 25,
   "metadata": {},
   "outputs": [],
   "source": [
    "#第十八课 将抓取新闻内文整理成一个函数\n",
    "import requests\n",
    "from bs4 import BeautifulSoup\n",
    "def getNewsContend(newsurl):\n",
    "    '''传入单个新闻的url,返回该新闻的标题、时间与来源、文章正文内容、责任编辑、评论数'''\n",
    "    result = {}\n",
    "    res = requests.get(single_news_url)\n",
    "    res.encoding = 'utf-8'\n",
    "\n",
    "    #用BeautifulSoup解析网页\n",
    "    soup = BeautifulSoup(res.text, 'html.parser')\n",
    "    #抓取新闻标题\n",
    "    result['title'] = soup.select('.main-title')[0].text\n",
    "    result['dt'] = datetime.strptime(news_time_str,'%Y年%m月%d日 %H:%M')#新闻时间，存储格式为元组\n",
    "    result['source'] = soup.select('.date-source a')[0].text #新闻来源\n",
    "    result['article'] = ' '.join([p.text.strip() for p in soup.select('.article p')[:-1]])#文章正文内容，以空格作为每段的分割\n",
    "    result['editor'] = soup.select('.article p')[-1].text.strip('责任编辑：').strip(' ')\n",
    "    result['comments_number'] = getCommentsCount(newsurl) #还需要在调用这个函数前设置参数news_comments_url\n",
    "    return result"
   ]
  },
  {
   "cell_type": "code",
   "execution_count": 26,
   "metadata": {},
   "outputs": [
    {
     "data": {
      "text/plain": [
       "{'title': '美国说实话了：希望朝鲜走越南道路',\n",
       " 'dt': datetime.datetime(2018, 7, 8, 23, 44),\n",
       " 'source': '环球网',\n",
       " 'article': '原标题：美国说实话了：希望朝鲜走越南道路 蓬佩奥表示，美国总统特朗普相信，朝鲜可以复制越南的发展道路，与美国关系正常化并获得经济繁荣。 路透社消息，正在越南访问的美国国务卿蓬佩奥8日敦促朝鲜遵循越南的先例，他表示，美国总统特朗普相信，朝鲜可以复制越南的发展道路，与美国关系正常化并获得经济繁荣。蓬佩奥两天前刚刚访问朝鲜，但平壤7日批评称，美国单方面对朝鲜提出了“强盗的无核化要求”。 据路透社报道，蓬佩奥今天在河内对经济界人士表示，他希望有朝一日美国可以与朝鲜建立与越南相当的伙伴关系，美越此前也曾是仇敌。他还表示，朝鲜如果可以复制越南道路，现在就需要把握时机。他还表示，越南崛起的关键在于与美国恢复了接触，两国在1985年起就开始就归还美军遗体展开合作。 此前，蓬佩奥刚刚访问了朝鲜，并称他的谈判对手、朝鲜劳动党中央委员会副委员长金英哲在会谈中展现出“善意”。但朝鲜外务省发言人7日通过朝中社发声，批评美国单方面对朝鲜提出了“强盗的无核化要求”。 环环：美国真是改不掉爱帮别人设计路的毛病。 ',\n",
       " 'editor': '张迪',\n",
       " 'comments_number': 314}"
      ]
     },
     "execution_count": 26,
     "metadata": {},
     "output_type": "execute_result"
    }
   ],
   "source": [
    "#第十八课 将抓取新闻内文整理成一个函数\n",
    "##验证getNewsContend函数\n",
    "single_news_url = 'http://news.sina.com.cn/w/2018-07-09/doc-ihezpzwt6845530.shtml'\n",
    "news_comments_url = 'http://comment5.news.sina.com.cn/page/info?version=1&format=json&channel=gj&\\\n",
    "newsid=comos-{}&group=undefined&compress=0&ie=utf-8&oe=utf-8&page=1&page_size=3&t_size=3&\\\n",
    "h_size=3&thread=1' #把newsid部分用{}替换掉\n",
    "getNewsContend(single_news_url)"
   ]
  },
  {
   "cell_type": "code",
   "execution_count": null,
   "metadata": {},
   "outputs": [],
   "source": []
  }
 ],
 "metadata": {
  "kernelspec": {
   "display_name": "Python 3",
   "language": "python",
   "name": "python3"
  },
  "language_info": {
   "codemirror_mode": {
    "name": "ipython",
    "version": 3
   },
   "file_extension": ".py",
   "mimetype": "text/x-python",
   "name": "python",
   "nbconvert_exporter": "python",
   "pygments_lexer": "ipython3",
   "version": "3.6.5"
  }
 },
 "nbformat": 4,
 "nbformat_minor": 2
}
